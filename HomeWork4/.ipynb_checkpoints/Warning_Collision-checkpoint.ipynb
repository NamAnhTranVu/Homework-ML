{
 "cells": [
  {
   "cell_type": "code",
   "execution_count": null,
   "metadata": {
    "id": "BuOK1R2BKJBf"
   },
   "outputs": [],
   "source": [
    "import pandas as pd\n",
    "import numpy as np\n",
    "import os\n",
    "import keras \n",
    "import tensorflow as tf\n",
    "from keras.models import load_model, Input, Model\n",
    "from keras.layers import LSTM, GRU, Dense, Flatten, Dropout\n",
    "from keras.callbacks import ModelCheckpoint\n",
    "from sklearn.preprocessing import MinMaxScaler\n",
    "from sklearn.model_selection import train_test_split\n",
    "from tensorflow.keras.optimizers import Adam\n",
    "import matplotlib.pyplot as plt"
   ]
  },
  {
   "cell_type": "markdown",
   "metadata": {
    "id": "0o_4mlSqrtxd"
   },
   "source": [
    "### Module: Đoán tọa độ kế tiếp"
   ]
  },
  {
   "cell_type": "markdown",
   "metadata": {
    "id": "B6mTWb8IK1fj"
   },
   "source": [
    "### **Xử lí dữ liệu huấn luyện**"
   ]
  },
  {
   "cell_type": "code",
   "execution_count": null,
   "metadata": {
    "id": "YhQ9N1hRKc-X"
   },
   "outputs": [],
   "source": [
    "x_start_df_train = pd.read_csv(\"/home/namanh/DHBK_AI_ML_DL/Course/Day9/Course4/data/train/export_data_x_start_train_20.csv\", names = list(range(1, 22, 1)))\n",
    "x_end_df_train = pd.read_csv(\"/home/namanh/DHBK_AI_ML_DL/Course/Day9/Course4/data/train/export_data_x_end_train_20.csv\", names = list(range(1, 22, 1)))\n",
    "y_start_df_train = pd.read_csv(\"/content/gdrive/MyDrive/Teaching Assistant Saturday/My code/week 4/Minh/data/train/export_data_y_start_train_20.csv\", names = list(range(1, 22, 1)))\n",
    "y_end_df_train = pd.read_csv(\"/content/gdrive/MyDrive/Teaching Assistant Saturday/My code/week 4/Minh/data/train/export_data_y_end_train_20.csv\", names = list(range(1, 22, 1)))"
   ]
  },
  {
   "cell_type": "code",
   "execution_count": null,
   "metadata": {
    "colab": {
     "base_uri": "https://localhost:8080/",
     "height": 424
    },
    "executionInfo": {
     "elapsed": 333,
     "status": "ok",
     "timestamp": 1640416171847,
     "user": {
      "displayName": "Đặng Quang Minh",
      "photoUrl": "https://lh3.googleusercontent.com/a/default-user=s64",
      "userId": "06179808321718262828"
     },
     "user_tz": -420
    },
    "id": "59rKen4fR-Xc",
    "outputId": "db126c83-0dca-4fbe-9ea1-213f18d1e92b"
   },
   "outputs": [
    {
     "data": {
      "text/html": [
       "\n",
       "  <div id=\"df-a87a2dd7-8738-44e4-bf34-d42584c99ede\">\n",
       "    <div class=\"colab-df-container\">\n",
       "      <div>\n",
       "<style scoped>\n",
       "    .dataframe tbody tr th:only-of-type {\n",
       "        vertical-align: middle;\n",
       "    }\n",
       "\n",
       "    .dataframe tbody tr th {\n",
       "        vertical-align: top;\n",
       "    }\n",
       "\n",
       "    .dataframe thead th {\n",
       "        text-align: right;\n",
       "    }\n",
       "</style>\n",
       "<table border=\"1\" class=\"dataframe\">\n",
       "  <thead>\n",
       "    <tr style=\"text-align: right;\">\n",
       "      <th></th>\n",
       "      <th>1</th>\n",
       "      <th>2</th>\n",
       "      <th>3</th>\n",
       "      <th>4</th>\n",
       "      <th>5</th>\n",
       "      <th>6</th>\n",
       "      <th>7</th>\n",
       "      <th>8</th>\n",
       "      <th>9</th>\n",
       "      <th>10</th>\n",
       "      <th>11</th>\n",
       "      <th>12</th>\n",
       "      <th>13</th>\n",
       "      <th>14</th>\n",
       "      <th>15</th>\n",
       "      <th>16</th>\n",
       "      <th>17</th>\n",
       "      <th>18</th>\n",
       "      <th>19</th>\n",
       "      <th>20</th>\n",
       "      <th>21</th>\n",
       "    </tr>\n",
       "  </thead>\n",
       "  <tbody>\n",
       "    <tr>\n",
       "      <th>0</th>\n",
       "      <td>-1</td>\n",
       "      <td>-1</td>\n",
       "      <td>-1</td>\n",
       "      <td>1037</td>\n",
       "      <td>1037</td>\n",
       "      <td>1037</td>\n",
       "      <td>1038</td>\n",
       "      <td>1038</td>\n",
       "      <td>1038</td>\n",
       "      <td>1038</td>\n",
       "      <td>1038</td>\n",
       "      <td>1038</td>\n",
       "      <td>1037</td>\n",
       "      <td>1038</td>\n",
       "      <td>1037</td>\n",
       "      <td>1038</td>\n",
       "      <td>1038</td>\n",
       "      <td>1038</td>\n",
       "      <td>1038</td>\n",
       "      <td>1038</td>\n",
       "      <td>1038</td>\n",
       "    </tr>\n",
       "    <tr>\n",
       "      <th>1</th>\n",
       "      <td>-1</td>\n",
       "      <td>-1</td>\n",
       "      <td>1037</td>\n",
       "      <td>1037</td>\n",
       "      <td>1037</td>\n",
       "      <td>1038</td>\n",
       "      <td>1038</td>\n",
       "      <td>1038</td>\n",
       "      <td>1038</td>\n",
       "      <td>1038</td>\n",
       "      <td>1038</td>\n",
       "      <td>1037</td>\n",
       "      <td>1038</td>\n",
       "      <td>1037</td>\n",
       "      <td>1038</td>\n",
       "      <td>1038</td>\n",
       "      <td>1038</td>\n",
       "      <td>1038</td>\n",
       "      <td>1038</td>\n",
       "      <td>1038</td>\n",
       "      <td>1038</td>\n",
       "    </tr>\n",
       "    <tr>\n",
       "      <th>2</th>\n",
       "      <td>-1</td>\n",
       "      <td>1037</td>\n",
       "      <td>1037</td>\n",
       "      <td>1037</td>\n",
       "      <td>1038</td>\n",
       "      <td>1038</td>\n",
       "      <td>1038</td>\n",
       "      <td>1038</td>\n",
       "      <td>1038</td>\n",
       "      <td>1038</td>\n",
       "      <td>1037</td>\n",
       "      <td>1038</td>\n",
       "      <td>1037</td>\n",
       "      <td>1038</td>\n",
       "      <td>1038</td>\n",
       "      <td>1038</td>\n",
       "      <td>1038</td>\n",
       "      <td>1038</td>\n",
       "      <td>1038</td>\n",
       "      <td>1038</td>\n",
       "      <td>1038</td>\n",
       "    </tr>\n",
       "    <tr>\n",
       "      <th>3</th>\n",
       "      <td>1037</td>\n",
       "      <td>1037</td>\n",
       "      <td>1038</td>\n",
       "      <td>1038</td>\n",
       "      <td>1038</td>\n",
       "      <td>1038</td>\n",
       "      <td>1038</td>\n",
       "      <td>1038</td>\n",
       "      <td>1037</td>\n",
       "      <td>1038</td>\n",
       "      <td>1037</td>\n",
       "      <td>1038</td>\n",
       "      <td>1038</td>\n",
       "      <td>1038</td>\n",
       "      <td>1038</td>\n",
       "      <td>1038</td>\n",
       "      <td>1038</td>\n",
       "      <td>1038</td>\n",
       "      <td>1038</td>\n",
       "      <td>1038</td>\n",
       "      <td>1038</td>\n",
       "    </tr>\n",
       "    <tr>\n",
       "      <th>4</th>\n",
       "      <td>1037</td>\n",
       "      <td>1038</td>\n",
       "      <td>1038</td>\n",
       "      <td>1038</td>\n",
       "      <td>1038</td>\n",
       "      <td>1038</td>\n",
       "      <td>1038</td>\n",
       "      <td>1037</td>\n",
       "      <td>1038</td>\n",
       "      <td>1037</td>\n",
       "      <td>1038</td>\n",
       "      <td>1038</td>\n",
       "      <td>1038</td>\n",
       "      <td>1038</td>\n",
       "      <td>1038</td>\n",
       "      <td>1038</td>\n",
       "      <td>1038</td>\n",
       "      <td>1038</td>\n",
       "      <td>1038</td>\n",
       "      <td>1038</td>\n",
       "      <td>1038</td>\n",
       "    </tr>\n",
       "    <tr>\n",
       "      <th>...</th>\n",
       "      <td>...</td>\n",
       "      <td>...</td>\n",
       "      <td>...</td>\n",
       "      <td>...</td>\n",
       "      <td>...</td>\n",
       "      <td>...</td>\n",
       "      <td>...</td>\n",
       "      <td>...</td>\n",
       "      <td>...</td>\n",
       "      <td>...</td>\n",
       "      <td>...</td>\n",
       "      <td>...</td>\n",
       "      <td>...</td>\n",
       "      <td>...</td>\n",
       "      <td>...</td>\n",
       "      <td>...</td>\n",
       "      <td>...</td>\n",
       "      <td>...</td>\n",
       "      <td>...</td>\n",
       "      <td>...</td>\n",
       "      <td>...</td>\n",
       "    </tr>\n",
       "    <tr>\n",
       "      <th>745193</th>\n",
       "      <td>1048</td>\n",
       "      <td>1048</td>\n",
       "      <td>1048</td>\n",
       "      <td>1048</td>\n",
       "      <td>1048</td>\n",
       "      <td>1048</td>\n",
       "      <td>1048</td>\n",
       "      <td>1048</td>\n",
       "      <td>1048</td>\n",
       "      <td>1048</td>\n",
       "      <td>1048</td>\n",
       "      <td>1048</td>\n",
       "      <td>1048</td>\n",
       "      <td>1048</td>\n",
       "      <td>1048</td>\n",
       "      <td>1048</td>\n",
       "      <td>1048</td>\n",
       "      <td>1048</td>\n",
       "      <td>1048</td>\n",
       "      <td>1048</td>\n",
       "      <td>1049</td>\n",
       "    </tr>\n",
       "    <tr>\n",
       "      <th>745194</th>\n",
       "      <td>1048</td>\n",
       "      <td>1048</td>\n",
       "      <td>1048</td>\n",
       "      <td>1048</td>\n",
       "      <td>1048</td>\n",
       "      <td>1048</td>\n",
       "      <td>1048</td>\n",
       "      <td>1048</td>\n",
       "      <td>1048</td>\n",
       "      <td>1048</td>\n",
       "      <td>1048</td>\n",
       "      <td>1048</td>\n",
       "      <td>1048</td>\n",
       "      <td>1048</td>\n",
       "      <td>1048</td>\n",
       "      <td>1048</td>\n",
       "      <td>1048</td>\n",
       "      <td>1048</td>\n",
       "      <td>1048</td>\n",
       "      <td>1049</td>\n",
       "      <td>1048</td>\n",
       "    </tr>\n",
       "    <tr>\n",
       "      <th>745195</th>\n",
       "      <td>1048</td>\n",
       "      <td>1048</td>\n",
       "      <td>1048</td>\n",
       "      <td>1048</td>\n",
       "      <td>1048</td>\n",
       "      <td>1048</td>\n",
       "      <td>1048</td>\n",
       "      <td>1048</td>\n",
       "      <td>1048</td>\n",
       "      <td>1048</td>\n",
       "      <td>1048</td>\n",
       "      <td>1048</td>\n",
       "      <td>1048</td>\n",
       "      <td>1048</td>\n",
       "      <td>1048</td>\n",
       "      <td>1048</td>\n",
       "      <td>1048</td>\n",
       "      <td>1048</td>\n",
       "      <td>1049</td>\n",
       "      <td>1048</td>\n",
       "      <td>1048</td>\n",
       "    </tr>\n",
       "    <tr>\n",
       "      <th>745196</th>\n",
       "      <td>1048</td>\n",
       "      <td>1048</td>\n",
       "      <td>1048</td>\n",
       "      <td>1048</td>\n",
       "      <td>1048</td>\n",
       "      <td>1048</td>\n",
       "      <td>1048</td>\n",
       "      <td>1048</td>\n",
       "      <td>1048</td>\n",
       "      <td>1048</td>\n",
       "      <td>1048</td>\n",
       "      <td>1048</td>\n",
       "      <td>1048</td>\n",
       "      <td>1048</td>\n",
       "      <td>1048</td>\n",
       "      <td>1048</td>\n",
       "      <td>1048</td>\n",
       "      <td>1049</td>\n",
       "      <td>1048</td>\n",
       "      <td>1048</td>\n",
       "      <td>1048</td>\n",
       "    </tr>\n",
       "    <tr>\n",
       "      <th>745197</th>\n",
       "      <td>1048</td>\n",
       "      <td>1048</td>\n",
       "      <td>1048</td>\n",
       "      <td>1048</td>\n",
       "      <td>1048</td>\n",
       "      <td>1048</td>\n",
       "      <td>1048</td>\n",
       "      <td>1048</td>\n",
       "      <td>1048</td>\n",
       "      <td>1048</td>\n",
       "      <td>1048</td>\n",
       "      <td>1048</td>\n",
       "      <td>1048</td>\n",
       "      <td>1048</td>\n",
       "      <td>1048</td>\n",
       "      <td>1048</td>\n",
       "      <td>1049</td>\n",
       "      <td>1048</td>\n",
       "      <td>1048</td>\n",
       "      <td>1048</td>\n",
       "      <td>1049</td>\n",
       "    </tr>\n",
       "  </tbody>\n",
       "</table>\n",
       "<p>745198 rows × 21 columns</p>\n",
       "</div>\n",
       "      <button class=\"colab-df-convert\" onclick=\"convertToInteractive('df-a87a2dd7-8738-44e4-bf34-d42584c99ede')\"\n",
       "              title=\"Convert this dataframe to an interactive table.\"\n",
       "              style=\"display:none;\">\n",
       "        \n",
       "  <svg xmlns=\"http://www.w3.org/2000/svg\" height=\"24px\"viewBox=\"0 0 24 24\"\n",
       "       width=\"24px\">\n",
       "    <path d=\"M0 0h24v24H0V0z\" fill=\"none\"/>\n",
       "    <path d=\"M18.56 5.44l.94 2.06.94-2.06 2.06-.94-2.06-.94-.94-2.06-.94 2.06-2.06.94zm-11 1L8.5 8.5l.94-2.06 2.06-.94-2.06-.94L8.5 2.5l-.94 2.06-2.06.94zm10 10l.94 2.06.94-2.06 2.06-.94-2.06-.94-.94-2.06-.94 2.06-2.06.94z\"/><path d=\"M17.41 7.96l-1.37-1.37c-.4-.4-.92-.59-1.43-.59-.52 0-1.04.2-1.43.59L10.3 9.45l-7.72 7.72c-.78.78-.78 2.05 0 2.83L4 21.41c.39.39.9.59 1.41.59.51 0 1.02-.2 1.41-.59l7.78-7.78 2.81-2.81c.8-.78.8-2.07 0-2.86zM5.41 20L4 18.59l7.72-7.72 1.47 1.35L5.41 20z\"/>\n",
       "  </svg>\n",
       "      </button>\n",
       "      \n",
       "  <style>\n",
       "    .colab-df-container {\n",
       "      display:flex;\n",
       "      flex-wrap:wrap;\n",
       "      gap: 12px;\n",
       "    }\n",
       "\n",
       "    .colab-df-convert {\n",
       "      background-color: #E8F0FE;\n",
       "      border: none;\n",
       "      border-radius: 50%;\n",
       "      cursor: pointer;\n",
       "      display: none;\n",
       "      fill: #1967D2;\n",
       "      height: 32px;\n",
       "      padding: 0 0 0 0;\n",
       "      width: 32px;\n",
       "    }\n",
       "\n",
       "    .colab-df-convert:hover {\n",
       "      background-color: #E2EBFA;\n",
       "      box-shadow: 0px 1px 2px rgba(60, 64, 67, 0.3), 0px 1px 3px 1px rgba(60, 64, 67, 0.15);\n",
       "      fill: #174EA6;\n",
       "    }\n",
       "\n",
       "    [theme=dark] .colab-df-convert {\n",
       "      background-color: #3B4455;\n",
       "      fill: #D2E3FC;\n",
       "    }\n",
       "\n",
       "    [theme=dark] .colab-df-convert:hover {\n",
       "      background-color: #434B5C;\n",
       "      box-shadow: 0px 1px 3px 1px rgba(0, 0, 0, 0.15);\n",
       "      filter: drop-shadow(0px 1px 2px rgba(0, 0, 0, 0.3));\n",
       "      fill: #FFFFFF;\n",
       "    }\n",
       "  </style>\n",
       "\n",
       "      <script>\n",
       "        const buttonEl =\n",
       "          document.querySelector('#df-a87a2dd7-8738-44e4-bf34-d42584c99ede button.colab-df-convert');\n",
       "        buttonEl.style.display =\n",
       "          google.colab.kernel.accessAllowed ? 'block' : 'none';\n",
       "\n",
       "        async function convertToInteractive(key) {\n",
       "          const element = document.querySelector('#df-a87a2dd7-8738-44e4-bf34-d42584c99ede');\n",
       "          const dataTable =\n",
       "            await google.colab.kernel.invokeFunction('convertToInteractive',\n",
       "                                                     [key], {});\n",
       "          if (!dataTable) return;\n",
       "\n",
       "          const docLinkHtml = 'Like what you see? Visit the ' +\n",
       "            '<a target=\"_blank\" href=https://colab.research.google.com/notebooks/data_table.ipynb>data table notebook</a>'\n",
       "            + ' to learn more about interactive tables.';\n",
       "          element.innerHTML = '';\n",
       "          dataTable['output_type'] = 'display_data';\n",
       "          await google.colab.output.renderOutput(dataTable, element);\n",
       "          const docLink = document.createElement('div');\n",
       "          docLink.innerHTML = docLinkHtml;\n",
       "          element.appendChild(docLink);\n",
       "        }\n",
       "      </script>\n",
       "    </div>\n",
       "  </div>\n",
       "  "
      ],
      "text/plain": [
       "          1     2     3     4     5     6   ...    16    17    18    19    20    21\n",
       "0         -1    -1    -1  1037  1037  1037  ...  1038  1038  1038  1038  1038  1038\n",
       "1         -1    -1  1037  1037  1037  1038  ...  1038  1038  1038  1038  1038  1038\n",
       "2         -1  1037  1037  1037  1038  1038  ...  1038  1038  1038  1038  1038  1038\n",
       "3       1037  1037  1038  1038  1038  1038  ...  1038  1038  1038  1038  1038  1038\n",
       "4       1037  1038  1038  1038  1038  1038  ...  1038  1038  1038  1038  1038  1038\n",
       "...      ...   ...   ...   ...   ...   ...  ...   ...   ...   ...   ...   ...   ...\n",
       "745193  1048  1048  1048  1048  1048  1048  ...  1048  1048  1048  1048  1048  1049\n",
       "745194  1048  1048  1048  1048  1048  1048  ...  1048  1048  1048  1048  1049  1048\n",
       "745195  1048  1048  1048  1048  1048  1048  ...  1048  1048  1048  1049  1048  1048\n",
       "745196  1048  1048  1048  1048  1048  1048  ...  1048  1048  1049  1048  1048  1048\n",
       "745197  1048  1048  1048  1048  1048  1048  ...  1048  1049  1048  1048  1048  1049\n",
       "\n",
       "[745198 rows x 21 columns]"
      ]
     },
     "execution_count": 5,
     "metadata": {},
     "output_type": "execute_result"
    }
   ],
   "source": [
    "# Xem qua 1 bảng dữ liệu\n",
    "x_start_df_train"
   ]
  },
  {
   "cell_type": "code",
   "execution_count": null,
   "metadata": {
    "colab": {
     "base_uri": "https://localhost:8080/",
     "height": 424
    },
    "executionInfo": {
     "elapsed": 9,
     "status": "ok",
     "timestamp": 1640416175900,
     "user": {
      "displayName": "Đặng Quang Minh",
      "photoUrl": "https://lh3.googleusercontent.com/a/default-user=s64",
      "userId": "06179808321718262828"
     },
     "user_tz": -420
    },
    "id": "6gKBt-OQxxdK",
    "outputId": "d680f999-956a-4ab8-de27-36075779b14f"
   },
   "outputs": [
    {
     "data": {
      "text/html": [
       "\n",
       "  <div id=\"df-5190437e-8540-45ba-a5d0-66d85103f9dd\">\n",
       "    <div class=\"colab-df-container\">\n",
       "      <div>\n",
       "<style scoped>\n",
       "    .dataframe tbody tr th:only-of-type {\n",
       "        vertical-align: middle;\n",
       "    }\n",
       "\n",
       "    .dataframe tbody tr th {\n",
       "        vertical-align: top;\n",
       "    }\n",
       "\n",
       "    .dataframe thead th {\n",
       "        text-align: right;\n",
       "    }\n",
       "</style>\n",
       "<table border=\"1\" class=\"dataframe\">\n",
       "  <thead>\n",
       "    <tr style=\"text-align: right;\">\n",
       "      <th></th>\n",
       "      <th>1</th>\n",
       "      <th>2</th>\n",
       "      <th>3</th>\n",
       "      <th>4</th>\n",
       "      <th>5</th>\n",
       "      <th>6</th>\n",
       "      <th>7</th>\n",
       "      <th>8</th>\n",
       "      <th>9</th>\n",
       "      <th>10</th>\n",
       "      <th>11</th>\n",
       "      <th>12</th>\n",
       "      <th>13</th>\n",
       "      <th>14</th>\n",
       "      <th>15</th>\n",
       "      <th>16</th>\n",
       "      <th>17</th>\n",
       "      <th>18</th>\n",
       "      <th>19</th>\n",
       "      <th>20</th>\n",
       "      <th>21</th>\n",
       "    </tr>\n",
       "  </thead>\n",
       "  <tbody>\n",
       "    <tr>\n",
       "      <th>0</th>\n",
       "      <td>-1</td>\n",
       "      <td>-1</td>\n",
       "      <td>-1</td>\n",
       "      <td>1054</td>\n",
       "      <td>1055</td>\n",
       "      <td>1055</td>\n",
       "      <td>1055</td>\n",
       "      <td>1055</td>\n",
       "      <td>1055</td>\n",
       "      <td>1055</td>\n",
       "      <td>1055</td>\n",
       "      <td>1055</td>\n",
       "      <td>1054</td>\n",
       "      <td>1055</td>\n",
       "      <td>1054</td>\n",
       "      <td>1055</td>\n",
       "      <td>1055</td>\n",
       "      <td>1055</td>\n",
       "      <td>1055</td>\n",
       "      <td>1055</td>\n",
       "      <td>1055</td>\n",
       "    </tr>\n",
       "    <tr>\n",
       "      <th>1</th>\n",
       "      <td>1055</td>\n",
       "      <td>1055</td>\n",
       "      <td>1055</td>\n",
       "      <td>1055</td>\n",
       "      <td>1055</td>\n",
       "      <td>1055</td>\n",
       "      <td>1055</td>\n",
       "      <td>1055</td>\n",
       "      <td>1054</td>\n",
       "      <td>1055</td>\n",
       "      <td>1054</td>\n",
       "      <td>1055</td>\n",
       "      <td>1055</td>\n",
       "      <td>1055</td>\n",
       "      <td>1055</td>\n",
       "      <td>1055</td>\n",
       "      <td>1055</td>\n",
       "      <td>1055</td>\n",
       "      <td>1055</td>\n",
       "      <td>1055</td>\n",
       "      <td>1055</td>\n",
       "    </tr>\n",
       "    <tr>\n",
       "      <th>2</th>\n",
       "      <td>1055</td>\n",
       "      <td>1055</td>\n",
       "      <td>1055</td>\n",
       "      <td>1055</td>\n",
       "      <td>1055</td>\n",
       "      <td>1055</td>\n",
       "      <td>1054</td>\n",
       "      <td>1055</td>\n",
       "      <td>1054</td>\n",
       "      <td>1055</td>\n",
       "      <td>1055</td>\n",
       "      <td>1055</td>\n",
       "      <td>1055</td>\n",
       "      <td>1055</td>\n",
       "      <td>1055</td>\n",
       "      <td>1055</td>\n",
       "      <td>1055</td>\n",
       "      <td>1055</td>\n",
       "      <td>1055</td>\n",
       "      <td>1055</td>\n",
       "      <td>1055</td>\n",
       "    </tr>\n",
       "    <tr>\n",
       "      <th>3</th>\n",
       "      <td>1055</td>\n",
       "      <td>1055</td>\n",
       "      <td>1055</td>\n",
       "      <td>1055</td>\n",
       "      <td>1054</td>\n",
       "      <td>1055</td>\n",
       "      <td>1054</td>\n",
       "      <td>1055</td>\n",
       "      <td>1055</td>\n",
       "      <td>1055</td>\n",
       "      <td>1055</td>\n",
       "      <td>1055</td>\n",
       "      <td>1055</td>\n",
       "      <td>1055</td>\n",
       "      <td>1055</td>\n",
       "      <td>1055</td>\n",
       "      <td>1055</td>\n",
       "      <td>1055</td>\n",
       "      <td>1055</td>\n",
       "      <td>1055</td>\n",
       "      <td>1055</td>\n",
       "    </tr>\n",
       "    <tr>\n",
       "      <th>4</th>\n",
       "      <td>1055</td>\n",
       "      <td>1055</td>\n",
       "      <td>1055</td>\n",
       "      <td>1054</td>\n",
       "      <td>1055</td>\n",
       "      <td>1054</td>\n",
       "      <td>1055</td>\n",
       "      <td>1055</td>\n",
       "      <td>1055</td>\n",
       "      <td>1055</td>\n",
       "      <td>1055</td>\n",
       "      <td>1055</td>\n",
       "      <td>1055</td>\n",
       "      <td>1055</td>\n",
       "      <td>1055</td>\n",
       "      <td>1055</td>\n",
       "      <td>1055</td>\n",
       "      <td>1055</td>\n",
       "      <td>1055</td>\n",
       "      <td>1055</td>\n",
       "      <td>1055</td>\n",
       "    </tr>\n",
       "    <tr>\n",
       "      <th>...</th>\n",
       "      <td>...</td>\n",
       "      <td>...</td>\n",
       "      <td>...</td>\n",
       "      <td>...</td>\n",
       "      <td>...</td>\n",
       "      <td>...</td>\n",
       "      <td>...</td>\n",
       "      <td>...</td>\n",
       "      <td>...</td>\n",
       "      <td>...</td>\n",
       "      <td>...</td>\n",
       "      <td>...</td>\n",
       "      <td>...</td>\n",
       "      <td>...</td>\n",
       "      <td>...</td>\n",
       "      <td>...</td>\n",
       "      <td>...</td>\n",
       "      <td>...</td>\n",
       "      <td>...</td>\n",
       "      <td>...</td>\n",
       "      <td>...</td>\n",
       "    </tr>\n",
       "    <tr>\n",
       "      <th>745193</th>\n",
       "      <td>1080</td>\n",
       "      <td>1080</td>\n",
       "      <td>1080</td>\n",
       "      <td>1080</td>\n",
       "      <td>1080</td>\n",
       "      <td>1080</td>\n",
       "      <td>1080</td>\n",
       "      <td>1080</td>\n",
       "      <td>1080</td>\n",
       "      <td>1080</td>\n",
       "      <td>1080</td>\n",
       "      <td>1080</td>\n",
       "      <td>1080</td>\n",
       "      <td>1080</td>\n",
       "      <td>1080</td>\n",
       "      <td>1080</td>\n",
       "      <td>1080</td>\n",
       "      <td>1080</td>\n",
       "      <td>1080</td>\n",
       "      <td>1080</td>\n",
       "      <td>1080</td>\n",
       "    </tr>\n",
       "    <tr>\n",
       "      <th>745194</th>\n",
       "      <td>1080</td>\n",
       "      <td>1080</td>\n",
       "      <td>1080</td>\n",
       "      <td>1080</td>\n",
       "      <td>1080</td>\n",
       "      <td>1080</td>\n",
       "      <td>1080</td>\n",
       "      <td>1080</td>\n",
       "      <td>1080</td>\n",
       "      <td>1080</td>\n",
       "      <td>1080</td>\n",
       "      <td>1080</td>\n",
       "      <td>1080</td>\n",
       "      <td>1080</td>\n",
       "      <td>1080</td>\n",
       "      <td>1080</td>\n",
       "      <td>1080</td>\n",
       "      <td>1080</td>\n",
       "      <td>1080</td>\n",
       "      <td>1080</td>\n",
       "      <td>1080</td>\n",
       "    </tr>\n",
       "    <tr>\n",
       "      <th>745195</th>\n",
       "      <td>1080</td>\n",
       "      <td>1080</td>\n",
       "      <td>1080</td>\n",
       "      <td>1080</td>\n",
       "      <td>1080</td>\n",
       "      <td>1080</td>\n",
       "      <td>1080</td>\n",
       "      <td>1080</td>\n",
       "      <td>1080</td>\n",
       "      <td>1080</td>\n",
       "      <td>1080</td>\n",
       "      <td>1080</td>\n",
       "      <td>1080</td>\n",
       "      <td>1080</td>\n",
       "      <td>1080</td>\n",
       "      <td>1080</td>\n",
       "      <td>1080</td>\n",
       "      <td>1080</td>\n",
       "      <td>1080</td>\n",
       "      <td>1080</td>\n",
       "      <td>1080</td>\n",
       "    </tr>\n",
       "    <tr>\n",
       "      <th>745196</th>\n",
       "      <td>1080</td>\n",
       "      <td>1080</td>\n",
       "      <td>1080</td>\n",
       "      <td>1080</td>\n",
       "      <td>1080</td>\n",
       "      <td>1080</td>\n",
       "      <td>1080</td>\n",
       "      <td>1080</td>\n",
       "      <td>1080</td>\n",
       "      <td>1080</td>\n",
       "      <td>1080</td>\n",
       "      <td>1080</td>\n",
       "      <td>1080</td>\n",
       "      <td>1080</td>\n",
       "      <td>1080</td>\n",
       "      <td>1080</td>\n",
       "      <td>1080</td>\n",
       "      <td>1080</td>\n",
       "      <td>1080</td>\n",
       "      <td>1080</td>\n",
       "      <td>1080</td>\n",
       "    </tr>\n",
       "    <tr>\n",
       "      <th>745197</th>\n",
       "      <td>1080</td>\n",
       "      <td>1080</td>\n",
       "      <td>1080</td>\n",
       "      <td>1080</td>\n",
       "      <td>1080</td>\n",
       "      <td>1080</td>\n",
       "      <td>1080</td>\n",
       "      <td>1080</td>\n",
       "      <td>1080</td>\n",
       "      <td>1080</td>\n",
       "      <td>1080</td>\n",
       "      <td>1080</td>\n",
       "      <td>1080</td>\n",
       "      <td>1080</td>\n",
       "      <td>1080</td>\n",
       "      <td>1080</td>\n",
       "      <td>1080</td>\n",
       "      <td>1080</td>\n",
       "      <td>1080</td>\n",
       "      <td>1080</td>\n",
       "      <td>1080</td>\n",
       "    </tr>\n",
       "  </tbody>\n",
       "</table>\n",
       "<p>745198 rows × 21 columns</p>\n",
       "</div>\n",
       "      <button class=\"colab-df-convert\" onclick=\"convertToInteractive('df-5190437e-8540-45ba-a5d0-66d85103f9dd')\"\n",
       "              title=\"Convert this dataframe to an interactive table.\"\n",
       "              style=\"display:none;\">\n",
       "        \n",
       "  <svg xmlns=\"http://www.w3.org/2000/svg\" height=\"24px\"viewBox=\"0 0 24 24\"\n",
       "       width=\"24px\">\n",
       "    <path d=\"M0 0h24v24H0V0z\" fill=\"none\"/>\n",
       "    <path d=\"M18.56 5.44l.94 2.06.94-2.06 2.06-.94-2.06-.94-.94-2.06-.94 2.06-2.06.94zm-11 1L8.5 8.5l.94-2.06 2.06-.94-2.06-.94L8.5 2.5l-.94 2.06-2.06.94zm10 10l.94 2.06.94-2.06 2.06-.94-2.06-.94-.94-2.06-.94 2.06-2.06.94z\"/><path d=\"M17.41 7.96l-1.37-1.37c-.4-.4-.92-.59-1.43-.59-.52 0-1.04.2-1.43.59L10.3 9.45l-7.72 7.72c-.78.78-.78 2.05 0 2.83L4 21.41c.39.39.9.59 1.41.59.51 0 1.02-.2 1.41-.59l7.78-7.78 2.81-2.81c.8-.78.8-2.07 0-2.86zM5.41 20L4 18.59l7.72-7.72 1.47 1.35L5.41 20z\"/>\n",
       "  </svg>\n",
       "      </button>\n",
       "      \n",
       "  <style>\n",
       "    .colab-df-container {\n",
       "      display:flex;\n",
       "      flex-wrap:wrap;\n",
       "      gap: 12px;\n",
       "    }\n",
       "\n",
       "    .colab-df-convert {\n",
       "      background-color: #E8F0FE;\n",
       "      border: none;\n",
       "      border-radius: 50%;\n",
       "      cursor: pointer;\n",
       "      display: none;\n",
       "      fill: #1967D2;\n",
       "      height: 32px;\n",
       "      padding: 0 0 0 0;\n",
       "      width: 32px;\n",
       "    }\n",
       "\n",
       "    .colab-df-convert:hover {\n",
       "      background-color: #E2EBFA;\n",
       "      box-shadow: 0px 1px 2px rgba(60, 64, 67, 0.3), 0px 1px 3px 1px rgba(60, 64, 67, 0.15);\n",
       "      fill: #174EA6;\n",
       "    }\n",
       "\n",
       "    [theme=dark] .colab-df-convert {\n",
       "      background-color: #3B4455;\n",
       "      fill: #D2E3FC;\n",
       "    }\n",
       "\n",
       "    [theme=dark] .colab-df-convert:hover {\n",
       "      background-color: #434B5C;\n",
       "      box-shadow: 0px 1px 3px 1px rgba(0, 0, 0, 0.15);\n",
       "      filter: drop-shadow(0px 1px 2px rgba(0, 0, 0, 0.3));\n",
       "      fill: #FFFFFF;\n",
       "    }\n",
       "  </style>\n",
       "\n",
       "      <script>\n",
       "        const buttonEl =\n",
       "          document.querySelector('#df-5190437e-8540-45ba-a5d0-66d85103f9dd button.colab-df-convert');\n",
       "        buttonEl.style.display =\n",
       "          google.colab.kernel.accessAllowed ? 'block' : 'none';\n",
       "\n",
       "        async function convertToInteractive(key) {\n",
       "          const element = document.querySelector('#df-5190437e-8540-45ba-a5d0-66d85103f9dd');\n",
       "          const dataTable =\n",
       "            await google.colab.kernel.invokeFunction('convertToInteractive',\n",
       "                                                     [key], {});\n",
       "          if (!dataTable) return;\n",
       "\n",
       "          const docLinkHtml = 'Like what you see? Visit the ' +\n",
       "            '<a target=\"_blank\" href=https://colab.research.google.com/notebooks/data_table.ipynb>data table notebook</a>'\n",
       "            + ' to learn more about interactive tables.';\n",
       "          element.innerHTML = '';\n",
       "          dataTable['output_type'] = 'display_data';\n",
       "          await google.colab.output.renderOutput(dataTable, element);\n",
       "          const docLink = document.createElement('div');\n",
       "          docLink.innerHTML = docLinkHtml;\n",
       "          element.appendChild(docLink);\n",
       "        }\n",
       "      </script>\n",
       "    </div>\n",
       "  </div>\n",
       "  "
      ],
      "text/plain": [
       "          1     2     3     4     5     6   ...    16    17    18    19    20    21\n",
       "0         -1    -1    -1  1054  1055  1055  ...  1055  1055  1055  1055  1055  1055\n",
       "1       1055  1055  1055  1055  1055  1055  ...  1055  1055  1055  1055  1055  1055\n",
       "2       1055  1055  1055  1055  1055  1055  ...  1055  1055  1055  1055  1055  1055\n",
       "3       1055  1055  1055  1055  1054  1055  ...  1055  1055  1055  1055  1055  1055\n",
       "4       1055  1055  1055  1054  1055  1054  ...  1055  1055  1055  1055  1055  1055\n",
       "...      ...   ...   ...   ...   ...   ...  ...   ...   ...   ...   ...   ...   ...\n",
       "745193  1080  1080  1080  1080  1080  1080  ...  1080  1080  1080  1080  1080  1080\n",
       "745194  1080  1080  1080  1080  1080  1080  ...  1080  1080  1080  1080  1080  1080\n",
       "745195  1080  1080  1080  1080  1080  1080  ...  1080  1080  1080  1080  1080  1080\n",
       "745196  1080  1080  1080  1080  1080  1080  ...  1080  1080  1080  1080  1080  1080\n",
       "745197  1080  1080  1080  1080  1080  1080  ...  1080  1080  1080  1080  1080  1080\n",
       "\n",
       "[745198 rows x 21 columns]"
      ]
     },
     "execution_count": 6,
     "metadata": {},
     "output_type": "execute_result"
    }
   ],
   "source": [
    "x_end_df_train"
   ]
  },
  {
   "cell_type": "code",
   "execution_count": null,
   "metadata": {
    "colab": {
     "base_uri": "https://localhost:8080/",
     "height": 424
    },
    "executionInfo": {
     "elapsed": 18,
     "status": "ok",
     "timestamp": 1640416179866,
     "user": {
      "displayName": "Đặng Quang Minh",
      "photoUrl": "https://lh3.googleusercontent.com/a/default-user=s64",
      "userId": "06179808321718262828"
     },
     "user_tz": -420
    },
    "id": "qeFJlflox9jx",
    "outputId": "bb597503-742c-4b70-a156-14833890fea4"
   },
   "outputs": [
    {
     "data": {
      "text/html": [
       "\n",
       "  <div id=\"df-5640b445-abe8-4394-a6b4-a90249175911\">\n",
       "    <div class=\"colab-df-container\">\n",
       "      <div>\n",
       "<style scoped>\n",
       "    .dataframe tbody tr th:only-of-type {\n",
       "        vertical-align: middle;\n",
       "    }\n",
       "\n",
       "    .dataframe tbody tr th {\n",
       "        vertical-align: top;\n",
       "    }\n",
       "\n",
       "    .dataframe thead th {\n",
       "        text-align: right;\n",
       "    }\n",
       "</style>\n",
       "<table border=\"1\" class=\"dataframe\">\n",
       "  <thead>\n",
       "    <tr style=\"text-align: right;\">\n",
       "      <th></th>\n",
       "      <th>1</th>\n",
       "      <th>2</th>\n",
       "      <th>3</th>\n",
       "      <th>4</th>\n",
       "      <th>5</th>\n",
       "      <th>6</th>\n",
       "      <th>7</th>\n",
       "      <th>8</th>\n",
       "      <th>9</th>\n",
       "      <th>10</th>\n",
       "      <th>11</th>\n",
       "      <th>12</th>\n",
       "      <th>13</th>\n",
       "      <th>14</th>\n",
       "      <th>15</th>\n",
       "      <th>16</th>\n",
       "      <th>17</th>\n",
       "      <th>18</th>\n",
       "      <th>19</th>\n",
       "      <th>20</th>\n",
       "      <th>21</th>\n",
       "    </tr>\n",
       "  </thead>\n",
       "  <tbody>\n",
       "    <tr>\n",
       "      <th>0</th>\n",
       "      <td>345</td>\n",
       "      <td>345</td>\n",
       "      <td>345</td>\n",
       "      <td>345</td>\n",
       "      <td>345</td>\n",
       "      <td>345</td>\n",
       "      <td>345</td>\n",
       "      <td>345</td>\n",
       "      <td>345</td>\n",
       "      <td>346</td>\n",
       "      <td>345</td>\n",
       "      <td>346</td>\n",
       "      <td>345</td>\n",
       "      <td>345</td>\n",
       "      <td>345</td>\n",
       "      <td>345</td>\n",
       "      <td>345</td>\n",
       "      <td>345</td>\n",
       "      <td>345</td>\n",
       "      <td>345</td>\n",
       "      <td>346</td>\n",
       "    </tr>\n",
       "    <tr>\n",
       "      <th>1</th>\n",
       "      <td>345</td>\n",
       "      <td>345</td>\n",
       "      <td>345</td>\n",
       "      <td>345</td>\n",
       "      <td>345</td>\n",
       "      <td>345</td>\n",
       "      <td>346</td>\n",
       "      <td>345</td>\n",
       "      <td>346</td>\n",
       "      <td>345</td>\n",
       "      <td>345</td>\n",
       "      <td>345</td>\n",
       "      <td>345</td>\n",
       "      <td>345</td>\n",
       "      <td>345</td>\n",
       "      <td>345</td>\n",
       "      <td>345</td>\n",
       "      <td>346</td>\n",
       "      <td>346</td>\n",
       "      <td>346</td>\n",
       "      <td>346</td>\n",
       "    </tr>\n",
       "    <tr>\n",
       "      <th>2</th>\n",
       "      <td>345</td>\n",
       "      <td>345</td>\n",
       "      <td>345</td>\n",
       "      <td>345</td>\n",
       "      <td>345</td>\n",
       "      <td>346</td>\n",
       "      <td>345</td>\n",
       "      <td>346</td>\n",
       "      <td>345</td>\n",
       "      <td>345</td>\n",
       "      <td>345</td>\n",
       "      <td>345</td>\n",
       "      <td>345</td>\n",
       "      <td>345</td>\n",
       "      <td>345</td>\n",
       "      <td>345</td>\n",
       "      <td>346</td>\n",
       "      <td>346</td>\n",
       "      <td>346</td>\n",
       "      <td>346</td>\n",
       "      <td>346</td>\n",
       "    </tr>\n",
       "    <tr>\n",
       "      <th>3</th>\n",
       "      <td>345</td>\n",
       "      <td>345</td>\n",
       "      <td>345</td>\n",
       "      <td>345</td>\n",
       "      <td>346</td>\n",
       "      <td>345</td>\n",
       "      <td>346</td>\n",
       "      <td>345</td>\n",
       "      <td>345</td>\n",
       "      <td>345</td>\n",
       "      <td>345</td>\n",
       "      <td>345</td>\n",
       "      <td>345</td>\n",
       "      <td>345</td>\n",
       "      <td>345</td>\n",
       "      <td>346</td>\n",
       "      <td>346</td>\n",
       "      <td>346</td>\n",
       "      <td>346</td>\n",
       "      <td>346</td>\n",
       "      <td>345</td>\n",
       "    </tr>\n",
       "    <tr>\n",
       "      <th>4</th>\n",
       "      <td>345</td>\n",
       "      <td>345</td>\n",
       "      <td>346</td>\n",
       "      <td>345</td>\n",
       "      <td>346</td>\n",
       "      <td>345</td>\n",
       "      <td>345</td>\n",
       "      <td>345</td>\n",
       "      <td>345</td>\n",
       "      <td>345</td>\n",
       "      <td>345</td>\n",
       "      <td>345</td>\n",
       "      <td>345</td>\n",
       "      <td>346</td>\n",
       "      <td>346</td>\n",
       "      <td>346</td>\n",
       "      <td>346</td>\n",
       "      <td>346</td>\n",
       "      <td>345</td>\n",
       "      <td>345</td>\n",
       "      <td>345</td>\n",
       "    </tr>\n",
       "    <tr>\n",
       "      <th>...</th>\n",
       "      <td>...</td>\n",
       "      <td>...</td>\n",
       "      <td>...</td>\n",
       "      <td>...</td>\n",
       "      <td>...</td>\n",
       "      <td>...</td>\n",
       "      <td>...</td>\n",
       "      <td>...</td>\n",
       "      <td>...</td>\n",
       "      <td>...</td>\n",
       "      <td>...</td>\n",
       "      <td>...</td>\n",
       "      <td>...</td>\n",
       "      <td>...</td>\n",
       "      <td>...</td>\n",
       "      <td>...</td>\n",
       "      <td>...</td>\n",
       "      <td>...</td>\n",
       "      <td>...</td>\n",
       "      <td>...</td>\n",
       "      <td>...</td>\n",
       "    </tr>\n",
       "    <tr>\n",
       "      <th>745193</th>\n",
       "      <td>402</td>\n",
       "      <td>402</td>\n",
       "      <td>402</td>\n",
       "      <td>402</td>\n",
       "      <td>402</td>\n",
       "      <td>402</td>\n",
       "      <td>402</td>\n",
       "      <td>402</td>\n",
       "      <td>402</td>\n",
       "      <td>402</td>\n",
       "      <td>402</td>\n",
       "      <td>402</td>\n",
       "      <td>402</td>\n",
       "      <td>402</td>\n",
       "      <td>402</td>\n",
       "      <td>402</td>\n",
       "      <td>402</td>\n",
       "      <td>402</td>\n",
       "      <td>402</td>\n",
       "      <td>402</td>\n",
       "      <td>402</td>\n",
       "    </tr>\n",
       "    <tr>\n",
       "      <th>745194</th>\n",
       "      <td>402</td>\n",
       "      <td>402</td>\n",
       "      <td>402</td>\n",
       "      <td>402</td>\n",
       "      <td>402</td>\n",
       "      <td>402</td>\n",
       "      <td>402</td>\n",
       "      <td>402</td>\n",
       "      <td>402</td>\n",
       "      <td>402</td>\n",
       "      <td>402</td>\n",
       "      <td>402</td>\n",
       "      <td>402</td>\n",
       "      <td>402</td>\n",
       "      <td>402</td>\n",
       "      <td>402</td>\n",
       "      <td>402</td>\n",
       "      <td>402</td>\n",
       "      <td>402</td>\n",
       "      <td>402</td>\n",
       "      <td>402</td>\n",
       "    </tr>\n",
       "    <tr>\n",
       "      <th>745195</th>\n",
       "      <td>402</td>\n",
       "      <td>402</td>\n",
       "      <td>402</td>\n",
       "      <td>402</td>\n",
       "      <td>402</td>\n",
       "      <td>402</td>\n",
       "      <td>402</td>\n",
       "      <td>402</td>\n",
       "      <td>402</td>\n",
       "      <td>402</td>\n",
       "      <td>402</td>\n",
       "      <td>402</td>\n",
       "      <td>402</td>\n",
       "      <td>402</td>\n",
       "      <td>402</td>\n",
       "      <td>402</td>\n",
       "      <td>402</td>\n",
       "      <td>402</td>\n",
       "      <td>402</td>\n",
       "      <td>402</td>\n",
       "      <td>402</td>\n",
       "    </tr>\n",
       "    <tr>\n",
       "      <th>745196</th>\n",
       "      <td>402</td>\n",
       "      <td>402</td>\n",
       "      <td>402</td>\n",
       "      <td>402</td>\n",
       "      <td>402</td>\n",
       "      <td>402</td>\n",
       "      <td>402</td>\n",
       "      <td>402</td>\n",
       "      <td>402</td>\n",
       "      <td>402</td>\n",
       "      <td>402</td>\n",
       "      <td>402</td>\n",
       "      <td>402</td>\n",
       "      <td>402</td>\n",
       "      <td>402</td>\n",
       "      <td>402</td>\n",
       "      <td>402</td>\n",
       "      <td>402</td>\n",
       "      <td>402</td>\n",
       "      <td>402</td>\n",
       "      <td>402</td>\n",
       "    </tr>\n",
       "    <tr>\n",
       "      <th>745197</th>\n",
       "      <td>402</td>\n",
       "      <td>402</td>\n",
       "      <td>402</td>\n",
       "      <td>402</td>\n",
       "      <td>402</td>\n",
       "      <td>402</td>\n",
       "      <td>402</td>\n",
       "      <td>402</td>\n",
       "      <td>402</td>\n",
       "      <td>402</td>\n",
       "      <td>402</td>\n",
       "      <td>402</td>\n",
       "      <td>402</td>\n",
       "      <td>402</td>\n",
       "      <td>402</td>\n",
       "      <td>402</td>\n",
       "      <td>402</td>\n",
       "      <td>402</td>\n",
       "      <td>402</td>\n",
       "      <td>402</td>\n",
       "      <td>402</td>\n",
       "    </tr>\n",
       "  </tbody>\n",
       "</table>\n",
       "<p>745198 rows × 21 columns</p>\n",
       "</div>\n",
       "      <button class=\"colab-df-convert\" onclick=\"convertToInteractive('df-5640b445-abe8-4394-a6b4-a90249175911')\"\n",
       "              title=\"Convert this dataframe to an interactive table.\"\n",
       "              style=\"display:none;\">\n",
       "        \n",
       "  <svg xmlns=\"http://www.w3.org/2000/svg\" height=\"24px\"viewBox=\"0 0 24 24\"\n",
       "       width=\"24px\">\n",
       "    <path d=\"M0 0h24v24H0V0z\" fill=\"none\"/>\n",
       "    <path d=\"M18.56 5.44l.94 2.06.94-2.06 2.06-.94-2.06-.94-.94-2.06-.94 2.06-2.06.94zm-11 1L8.5 8.5l.94-2.06 2.06-.94-2.06-.94L8.5 2.5l-.94 2.06-2.06.94zm10 10l.94 2.06.94-2.06 2.06-.94-2.06-.94-.94-2.06-.94 2.06-2.06.94z\"/><path d=\"M17.41 7.96l-1.37-1.37c-.4-.4-.92-.59-1.43-.59-.52 0-1.04.2-1.43.59L10.3 9.45l-7.72 7.72c-.78.78-.78 2.05 0 2.83L4 21.41c.39.39.9.59 1.41.59.51 0 1.02-.2 1.41-.59l7.78-7.78 2.81-2.81c.8-.78.8-2.07 0-2.86zM5.41 20L4 18.59l7.72-7.72 1.47 1.35L5.41 20z\"/>\n",
       "  </svg>\n",
       "      </button>\n",
       "      \n",
       "  <style>\n",
       "    .colab-df-container {\n",
       "      display:flex;\n",
       "      flex-wrap:wrap;\n",
       "      gap: 12px;\n",
       "    }\n",
       "\n",
       "    .colab-df-convert {\n",
       "      background-color: #E8F0FE;\n",
       "      border: none;\n",
       "      border-radius: 50%;\n",
       "      cursor: pointer;\n",
       "      display: none;\n",
       "      fill: #1967D2;\n",
       "      height: 32px;\n",
       "      padding: 0 0 0 0;\n",
       "      width: 32px;\n",
       "    }\n",
       "\n",
       "    .colab-df-convert:hover {\n",
       "      background-color: #E2EBFA;\n",
       "      box-shadow: 0px 1px 2px rgba(60, 64, 67, 0.3), 0px 1px 3px 1px rgba(60, 64, 67, 0.15);\n",
       "      fill: #174EA6;\n",
       "    }\n",
       "\n",
       "    [theme=dark] .colab-df-convert {\n",
       "      background-color: #3B4455;\n",
       "      fill: #D2E3FC;\n",
       "    }\n",
       "\n",
       "    [theme=dark] .colab-df-convert:hover {\n",
       "      background-color: #434B5C;\n",
       "      box-shadow: 0px 1px 3px 1px rgba(0, 0, 0, 0.15);\n",
       "      filter: drop-shadow(0px 1px 2px rgba(0, 0, 0, 0.3));\n",
       "      fill: #FFFFFF;\n",
       "    }\n",
       "  </style>\n",
       "\n",
       "      <script>\n",
       "        const buttonEl =\n",
       "          document.querySelector('#df-5640b445-abe8-4394-a6b4-a90249175911 button.colab-df-convert');\n",
       "        buttonEl.style.display =\n",
       "          google.colab.kernel.accessAllowed ? 'block' : 'none';\n",
       "\n",
       "        async function convertToInteractive(key) {\n",
       "          const element = document.querySelector('#df-5640b445-abe8-4394-a6b4-a90249175911');\n",
       "          const dataTable =\n",
       "            await google.colab.kernel.invokeFunction('convertToInteractive',\n",
       "                                                     [key], {});\n",
       "          if (!dataTable) return;\n",
       "\n",
       "          const docLinkHtml = 'Like what you see? Visit the ' +\n",
       "            '<a target=\"_blank\" href=https://colab.research.google.com/notebooks/data_table.ipynb>data table notebook</a>'\n",
       "            + ' to learn more about interactive tables.';\n",
       "          element.innerHTML = '';\n",
       "          dataTable['output_type'] = 'display_data';\n",
       "          await google.colab.output.renderOutput(dataTable, element);\n",
       "          const docLink = document.createElement('div');\n",
       "          docLink.innerHTML = docLinkHtml;\n",
       "          element.appendChild(docLink);\n",
       "        }\n",
       "      </script>\n",
       "    </div>\n",
       "  </div>\n",
       "  "
      ],
      "text/plain": [
       "         1    2    3    4    5    6    7   ...   15   16   17   18   19   20   21\n",
       "0       345  345  345  345  345  345  345  ...  345  345  345  345  345  345  346\n",
       "1       345  345  345  345  345  345  346  ...  345  345  345  346  346  346  346\n",
       "2       345  345  345  345  345  346  345  ...  345  345  346  346  346  346  346\n",
       "3       345  345  345  345  346  345  346  ...  345  346  346  346  346  346  345\n",
       "4       345  345  346  345  346  345  345  ...  346  346  346  346  345  345  345\n",
       "...     ...  ...  ...  ...  ...  ...  ...  ...  ...  ...  ...  ...  ...  ...  ...\n",
       "745193  402  402  402  402  402  402  402  ...  402  402  402  402  402  402  402\n",
       "745194  402  402  402  402  402  402  402  ...  402  402  402  402  402  402  402\n",
       "745195  402  402  402  402  402  402  402  ...  402  402  402  402  402  402  402\n",
       "745196  402  402  402  402  402  402  402  ...  402  402  402  402  402  402  402\n",
       "745197  402  402  402  402  402  402  402  ...  402  402  402  402  402  402  402\n",
       "\n",
       "[745198 rows x 21 columns]"
      ]
     },
     "execution_count": 7,
     "metadata": {},
     "output_type": "execute_result"
    }
   ],
   "source": [
    "y_start_df_train"
   ]
  },
  {
   "cell_type": "code",
   "execution_count": null,
   "metadata": {
    "colab": {
     "base_uri": "https://localhost:8080/",
     "height": 424
    },
    "executionInfo": {
     "elapsed": 14,
     "status": "ok",
     "timestamp": 1640416184841,
     "user": {
      "displayName": "Đặng Quang Minh",
      "photoUrl": "https://lh3.googleusercontent.com/a/default-user=s64",
      "userId": "06179808321718262828"
     },
     "user_tz": -420
    },
    "id": "px7q6pVJyGJe",
    "outputId": "c827067a-a419-412e-c85d-6ca278403edf"
   },
   "outputs": [
    {
     "data": {
      "text/html": [
       "\n",
       "  <div id=\"df-64ee4b33-37ee-49c9-99c1-a9c3b54adbdb\">\n",
       "    <div class=\"colab-df-container\">\n",
       "      <div>\n",
       "<style scoped>\n",
       "    .dataframe tbody tr th:only-of-type {\n",
       "        vertical-align: middle;\n",
       "    }\n",
       "\n",
       "    .dataframe tbody tr th {\n",
       "        vertical-align: top;\n",
       "    }\n",
       "\n",
       "    .dataframe thead th {\n",
       "        text-align: right;\n",
       "    }\n",
       "</style>\n",
       "<table border=\"1\" class=\"dataframe\">\n",
       "  <thead>\n",
       "    <tr style=\"text-align: right;\">\n",
       "      <th></th>\n",
       "      <th>1</th>\n",
       "      <th>2</th>\n",
       "      <th>3</th>\n",
       "      <th>4</th>\n",
       "      <th>5</th>\n",
       "      <th>6</th>\n",
       "      <th>7</th>\n",
       "      <th>8</th>\n",
       "      <th>9</th>\n",
       "      <th>10</th>\n",
       "      <th>11</th>\n",
       "      <th>12</th>\n",
       "      <th>13</th>\n",
       "      <th>14</th>\n",
       "      <th>15</th>\n",
       "      <th>16</th>\n",
       "      <th>17</th>\n",
       "      <th>18</th>\n",
       "      <th>19</th>\n",
       "      <th>20</th>\n",
       "      <th>21</th>\n",
       "    </tr>\n",
       "  </thead>\n",
       "  <tbody>\n",
       "    <tr>\n",
       "      <th>0</th>\n",
       "      <td>-1</td>\n",
       "      <td>-1</td>\n",
       "      <td>394</td>\n",
       "      <td>394</td>\n",
       "      <td>394</td>\n",
       "      <td>394</td>\n",
       "      <td>394</td>\n",
       "      <td>394</td>\n",
       "      <td>394</td>\n",
       "      <td>394</td>\n",
       "      <td>395</td>\n",
       "      <td>395</td>\n",
       "      <td>395</td>\n",
       "      <td>395</td>\n",
       "      <td>395</td>\n",
       "      <td>395</td>\n",
       "      <td>395</td>\n",
       "      <td>395</td>\n",
       "      <td>395</td>\n",
       "      <td>395</td>\n",
       "      <td>395</td>\n",
       "    </tr>\n",
       "    <tr>\n",
       "      <th>1</th>\n",
       "      <td>-1</td>\n",
       "      <td>394</td>\n",
       "      <td>394</td>\n",
       "      <td>394</td>\n",
       "      <td>394</td>\n",
       "      <td>394</td>\n",
       "      <td>394</td>\n",
       "      <td>394</td>\n",
       "      <td>394</td>\n",
       "      <td>395</td>\n",
       "      <td>395</td>\n",
       "      <td>395</td>\n",
       "      <td>395</td>\n",
       "      <td>395</td>\n",
       "      <td>395</td>\n",
       "      <td>395</td>\n",
       "      <td>395</td>\n",
       "      <td>395</td>\n",
       "      <td>395</td>\n",
       "      <td>395</td>\n",
       "      <td>395</td>\n",
       "    </tr>\n",
       "    <tr>\n",
       "      <th>2</th>\n",
       "      <td>394</td>\n",
       "      <td>394</td>\n",
       "      <td>394</td>\n",
       "      <td>394</td>\n",
       "      <td>394</td>\n",
       "      <td>394</td>\n",
       "      <td>394</td>\n",
       "      <td>394</td>\n",
       "      <td>395</td>\n",
       "      <td>395</td>\n",
       "      <td>395</td>\n",
       "      <td>395</td>\n",
       "      <td>395</td>\n",
       "      <td>395</td>\n",
       "      <td>395</td>\n",
       "      <td>395</td>\n",
       "      <td>395</td>\n",
       "      <td>395</td>\n",
       "      <td>395</td>\n",
       "      <td>395</td>\n",
       "      <td>394</td>\n",
       "    </tr>\n",
       "    <tr>\n",
       "      <th>3</th>\n",
       "      <td>394</td>\n",
       "      <td>394</td>\n",
       "      <td>394</td>\n",
       "      <td>394</td>\n",
       "      <td>394</td>\n",
       "      <td>394</td>\n",
       "      <td>395</td>\n",
       "      <td>395</td>\n",
       "      <td>395</td>\n",
       "      <td>395</td>\n",
       "      <td>395</td>\n",
       "      <td>395</td>\n",
       "      <td>395</td>\n",
       "      <td>395</td>\n",
       "      <td>395</td>\n",
       "      <td>395</td>\n",
       "      <td>395</td>\n",
       "      <td>395</td>\n",
       "      <td>394</td>\n",
       "      <td>394</td>\n",
       "      <td>394</td>\n",
       "    </tr>\n",
       "    <tr>\n",
       "      <th>4</th>\n",
       "      <td>394</td>\n",
       "      <td>394</td>\n",
       "      <td>394</td>\n",
       "      <td>394</td>\n",
       "      <td>394</td>\n",
       "      <td>395</td>\n",
       "      <td>395</td>\n",
       "      <td>395</td>\n",
       "      <td>395</td>\n",
       "      <td>395</td>\n",
       "      <td>395</td>\n",
       "      <td>395</td>\n",
       "      <td>395</td>\n",
       "      <td>395</td>\n",
       "      <td>395</td>\n",
       "      <td>395</td>\n",
       "      <td>395</td>\n",
       "      <td>394</td>\n",
       "      <td>394</td>\n",
       "      <td>394</td>\n",
       "      <td>394</td>\n",
       "    </tr>\n",
       "    <tr>\n",
       "      <th>...</th>\n",
       "      <td>...</td>\n",
       "      <td>...</td>\n",
       "      <td>...</td>\n",
       "      <td>...</td>\n",
       "      <td>...</td>\n",
       "      <td>...</td>\n",
       "      <td>...</td>\n",
       "      <td>...</td>\n",
       "      <td>...</td>\n",
       "      <td>...</td>\n",
       "      <td>...</td>\n",
       "      <td>...</td>\n",
       "      <td>...</td>\n",
       "      <td>...</td>\n",
       "      <td>...</td>\n",
       "      <td>...</td>\n",
       "      <td>...</td>\n",
       "      <td>...</td>\n",
       "      <td>...</td>\n",
       "      <td>...</td>\n",
       "      <td>...</td>\n",
       "    </tr>\n",
       "    <tr>\n",
       "      <th>745193</th>\n",
       "      <td>461</td>\n",
       "      <td>461</td>\n",
       "      <td>461</td>\n",
       "      <td>461</td>\n",
       "      <td>461</td>\n",
       "      <td>461</td>\n",
       "      <td>461</td>\n",
       "      <td>461</td>\n",
       "      <td>461</td>\n",
       "      <td>461</td>\n",
       "      <td>461</td>\n",
       "      <td>461</td>\n",
       "      <td>461</td>\n",
       "      <td>461</td>\n",
       "      <td>461</td>\n",
       "      <td>461</td>\n",
       "      <td>461</td>\n",
       "      <td>461</td>\n",
       "      <td>461</td>\n",
       "      <td>461</td>\n",
       "      <td>461</td>\n",
       "    </tr>\n",
       "    <tr>\n",
       "      <th>745194</th>\n",
       "      <td>461</td>\n",
       "      <td>461</td>\n",
       "      <td>461</td>\n",
       "      <td>461</td>\n",
       "      <td>461</td>\n",
       "      <td>461</td>\n",
       "      <td>461</td>\n",
       "      <td>461</td>\n",
       "      <td>461</td>\n",
       "      <td>461</td>\n",
       "      <td>461</td>\n",
       "      <td>461</td>\n",
       "      <td>461</td>\n",
       "      <td>461</td>\n",
       "      <td>461</td>\n",
       "      <td>461</td>\n",
       "      <td>461</td>\n",
       "      <td>461</td>\n",
       "      <td>461</td>\n",
       "      <td>461</td>\n",
       "      <td>461</td>\n",
       "    </tr>\n",
       "    <tr>\n",
       "      <th>745195</th>\n",
       "      <td>461</td>\n",
       "      <td>461</td>\n",
       "      <td>461</td>\n",
       "      <td>461</td>\n",
       "      <td>461</td>\n",
       "      <td>461</td>\n",
       "      <td>461</td>\n",
       "      <td>461</td>\n",
       "      <td>461</td>\n",
       "      <td>461</td>\n",
       "      <td>461</td>\n",
       "      <td>461</td>\n",
       "      <td>461</td>\n",
       "      <td>461</td>\n",
       "      <td>461</td>\n",
       "      <td>461</td>\n",
       "      <td>461</td>\n",
       "      <td>461</td>\n",
       "      <td>461</td>\n",
       "      <td>461</td>\n",
       "      <td>461</td>\n",
       "    </tr>\n",
       "    <tr>\n",
       "      <th>745196</th>\n",
       "      <td>461</td>\n",
       "      <td>461</td>\n",
       "      <td>461</td>\n",
       "      <td>461</td>\n",
       "      <td>461</td>\n",
       "      <td>461</td>\n",
       "      <td>461</td>\n",
       "      <td>461</td>\n",
       "      <td>461</td>\n",
       "      <td>461</td>\n",
       "      <td>461</td>\n",
       "      <td>461</td>\n",
       "      <td>461</td>\n",
       "      <td>461</td>\n",
       "      <td>461</td>\n",
       "      <td>461</td>\n",
       "      <td>461</td>\n",
       "      <td>461</td>\n",
       "      <td>461</td>\n",
       "      <td>461</td>\n",
       "      <td>461</td>\n",
       "    </tr>\n",
       "    <tr>\n",
       "      <th>745197</th>\n",
       "      <td>461</td>\n",
       "      <td>461</td>\n",
       "      <td>461</td>\n",
       "      <td>461</td>\n",
       "      <td>461</td>\n",
       "      <td>461</td>\n",
       "      <td>461</td>\n",
       "      <td>461</td>\n",
       "      <td>461</td>\n",
       "      <td>461</td>\n",
       "      <td>461</td>\n",
       "      <td>461</td>\n",
       "      <td>461</td>\n",
       "      <td>461</td>\n",
       "      <td>461</td>\n",
       "      <td>461</td>\n",
       "      <td>461</td>\n",
       "      <td>461</td>\n",
       "      <td>461</td>\n",
       "      <td>461</td>\n",
       "      <td>461</td>\n",
       "    </tr>\n",
       "  </tbody>\n",
       "</table>\n",
       "<p>745198 rows × 21 columns</p>\n",
       "</div>\n",
       "      <button class=\"colab-df-convert\" onclick=\"convertToInteractive('df-64ee4b33-37ee-49c9-99c1-a9c3b54adbdb')\"\n",
       "              title=\"Convert this dataframe to an interactive table.\"\n",
       "              style=\"display:none;\">\n",
       "        \n",
       "  <svg xmlns=\"http://www.w3.org/2000/svg\" height=\"24px\"viewBox=\"0 0 24 24\"\n",
       "       width=\"24px\">\n",
       "    <path d=\"M0 0h24v24H0V0z\" fill=\"none\"/>\n",
       "    <path d=\"M18.56 5.44l.94 2.06.94-2.06 2.06-.94-2.06-.94-.94-2.06-.94 2.06-2.06.94zm-11 1L8.5 8.5l.94-2.06 2.06-.94-2.06-.94L8.5 2.5l-.94 2.06-2.06.94zm10 10l.94 2.06.94-2.06 2.06-.94-2.06-.94-.94-2.06-.94 2.06-2.06.94z\"/><path d=\"M17.41 7.96l-1.37-1.37c-.4-.4-.92-.59-1.43-.59-.52 0-1.04.2-1.43.59L10.3 9.45l-7.72 7.72c-.78.78-.78 2.05 0 2.83L4 21.41c.39.39.9.59 1.41.59.51 0 1.02-.2 1.41-.59l7.78-7.78 2.81-2.81c.8-.78.8-2.07 0-2.86zM5.41 20L4 18.59l7.72-7.72 1.47 1.35L5.41 20z\"/>\n",
       "  </svg>\n",
       "      </button>\n",
       "      \n",
       "  <style>\n",
       "    .colab-df-container {\n",
       "      display:flex;\n",
       "      flex-wrap:wrap;\n",
       "      gap: 12px;\n",
       "    }\n",
       "\n",
       "    .colab-df-convert {\n",
       "      background-color: #E8F0FE;\n",
       "      border: none;\n",
       "      border-radius: 50%;\n",
       "      cursor: pointer;\n",
       "      display: none;\n",
       "      fill: #1967D2;\n",
       "      height: 32px;\n",
       "      padding: 0 0 0 0;\n",
       "      width: 32px;\n",
       "    }\n",
       "\n",
       "    .colab-df-convert:hover {\n",
       "      background-color: #E2EBFA;\n",
       "      box-shadow: 0px 1px 2px rgba(60, 64, 67, 0.3), 0px 1px 3px 1px rgba(60, 64, 67, 0.15);\n",
       "      fill: #174EA6;\n",
       "    }\n",
       "\n",
       "    [theme=dark] .colab-df-convert {\n",
       "      background-color: #3B4455;\n",
       "      fill: #D2E3FC;\n",
       "    }\n",
       "\n",
       "    [theme=dark] .colab-df-convert:hover {\n",
       "      background-color: #434B5C;\n",
       "      box-shadow: 0px 1px 3px 1px rgba(0, 0, 0, 0.15);\n",
       "      filter: drop-shadow(0px 1px 2px rgba(0, 0, 0, 0.3));\n",
       "      fill: #FFFFFF;\n",
       "    }\n",
       "  </style>\n",
       "\n",
       "      <script>\n",
       "        const buttonEl =\n",
       "          document.querySelector('#df-64ee4b33-37ee-49c9-99c1-a9c3b54adbdb button.colab-df-convert');\n",
       "        buttonEl.style.display =\n",
       "          google.colab.kernel.accessAllowed ? 'block' : 'none';\n",
       "\n",
       "        async function convertToInteractive(key) {\n",
       "          const element = document.querySelector('#df-64ee4b33-37ee-49c9-99c1-a9c3b54adbdb');\n",
       "          const dataTable =\n",
       "            await google.colab.kernel.invokeFunction('convertToInteractive',\n",
       "                                                     [key], {});\n",
       "          if (!dataTable) return;\n",
       "\n",
       "          const docLinkHtml = 'Like what you see? Visit the ' +\n",
       "            '<a target=\"_blank\" href=https://colab.research.google.com/notebooks/data_table.ipynb>data table notebook</a>'\n",
       "            + ' to learn more about interactive tables.';\n",
       "          element.innerHTML = '';\n",
       "          dataTable['output_type'] = 'display_data';\n",
       "          await google.colab.output.renderOutput(dataTable, element);\n",
       "          const docLink = document.createElement('div');\n",
       "          docLink.innerHTML = docLinkHtml;\n",
       "          element.appendChild(docLink);\n",
       "        }\n",
       "      </script>\n",
       "    </div>\n",
       "  </div>\n",
       "  "
      ],
      "text/plain": [
       "         1    2    3    4    5    6    7   ...   15   16   17   18   19   20   21\n",
       "0        -1   -1  394  394  394  394  394  ...  395  395  395  395  395  395  395\n",
       "1        -1  394  394  394  394  394  394  ...  395  395  395  395  395  395  395\n",
       "2       394  394  394  394  394  394  394  ...  395  395  395  395  395  395  394\n",
       "3       394  394  394  394  394  394  395  ...  395  395  395  395  394  394  394\n",
       "4       394  394  394  394  394  395  395  ...  395  395  395  394  394  394  394\n",
       "...     ...  ...  ...  ...  ...  ...  ...  ...  ...  ...  ...  ...  ...  ...  ...\n",
       "745193  461  461  461  461  461  461  461  ...  461  461  461  461  461  461  461\n",
       "745194  461  461  461  461  461  461  461  ...  461  461  461  461  461  461  461\n",
       "745195  461  461  461  461  461  461  461  ...  461  461  461  461  461  461  461\n",
       "745196  461  461  461  461  461  461  461  ...  461  461  461  461  461  461  461\n",
       "745197  461  461  461  461  461  461  461  ...  461  461  461  461  461  461  461\n",
       "\n",
       "[745198 rows x 21 columns]"
      ]
     },
     "execution_count": 8,
     "metadata": {},
     "output_type": "execute_result"
    }
   ],
   "source": [
    "y_end_df_train"
   ]
  },
  {
   "cell_type": "code",
   "execution_count": null,
   "metadata": {
    "id": "qySkWyaTwjIm"
   },
   "outputs": [],
   "source": [
    "def deal_with_interuption(table_name):\n",
    "  ori_table = table_name.to_numpy()\n",
    "  table = ori_table.reshape((ori_table.shape[0]*ori_table.shape[1],))\n",
    "  \n",
    "  queue = []\n",
    "  for idx, index in enumerate(table):\n",
    "    if index == -1:\n",
    "      queue.append(idx)\n",
    "  \n",
    "  while len(queue) != 0:\n",
    "    top = queue[0]\n",
    "    queue.pop(0)\n",
    "\n",
    "    if top == len(table) - 1:\n",
    "      table[top] = table[top - 1]\n",
    "      if table[top] == -1:\n",
    "        queue.append(top)\n",
    "      continue\n",
    "  \n",
    "    if table[top + 1] > -1: \n",
    "      table[top] = table[top + 1]\n",
    "    else:\n",
    "      if top != 0:\n",
    "        table[top] = table[top - 1]\n",
    "    \n",
    "    if table[top] == -1:\n",
    "      queue.append(top)\n",
    "  \n",
    "  table = table.reshape((ori_table.shape[0], ori_table.shape[1]))\n",
    "  return table"
   ]
  },
  {
   "cell_type": "code",
   "execution_count": null,
   "metadata": {
    "id": "wjcNtUd5Od3x"
   },
   "outputs": [],
   "source": [
    "# Xử lí dữ liệu -1\n",
    "x_start_df_train = deal_with_interuption(x_start_df_train)\n",
    "y_start_df_train = deal_with_interuption(y_start_df_train)\n",
    "x_end_df_train = deal_with_interuption(x_end_df_train)\n",
    "y_end_df_train = deal_with_interuption(y_end_df_train)"
   ]
  },
  {
   "cell_type": "code",
   "execution_count": null,
   "metadata": {
    "colab": {
     "base_uri": "https://localhost:8080/"
    },
    "executionInfo": {
     "elapsed": 346,
     "status": "ok",
     "timestamp": 1640416227507,
     "user": {
      "displayName": "Đặng Quang Minh",
      "photoUrl": "https://lh3.googleusercontent.com/a/default-user=s64",
      "userId": "06179808321718262828"
     },
     "user_tz": -420
    },
    "id": "zQYd5oUQOmUa",
    "outputId": "a7ed3200-ed4d-4dd5-fc35-2aac008a7a30"
   },
   "outputs": [
    {
     "data": {
      "text/plain": [
       "array([[1037, 1037, 1037, ..., 1038, 1038, 1038],\n",
       "       [1038, 1037, 1037, ..., 1038, 1038, 1038],\n",
       "       [1037, 1037, 1037, ..., 1038, 1038, 1038],\n",
       "       ...,\n",
       "       [1048, 1048, 1048, ..., 1049, 1048, 1048],\n",
       "       [1048, 1048, 1048, ..., 1048, 1048, 1048],\n",
       "       [1048, 1048, 1048, ..., 1048, 1048, 1049]])"
      ]
     },
     "execution_count": 11,
     "metadata": {},
     "output_type": "execute_result"
    }
   ],
   "source": [
    "# Kiếm tra lại dữ liệu sau khi xử lí\n",
    "x_start_df_train"
   ]
  },
  {
   "cell_type": "code",
   "execution_count": null,
   "metadata": {
    "colab": {
     "base_uri": "https://localhost:8080/"
    },
    "executionInfo": {
     "elapsed": 313,
     "status": "ok",
     "timestamp": 1640416229492,
     "user": {
      "displayName": "Đặng Quang Minh",
      "photoUrl": "https://lh3.googleusercontent.com/a/default-user=s64",
      "userId": "06179808321718262828"
     },
     "user_tz": -420
    },
    "id": "6kWJbPsGviob",
    "outputId": "005212fc-b8d7-492f-c679-d035d1cf8665"
   },
   "outputs": [
    {
     "data": {
      "text/plain": [
       "array([[1054, 1054, 1054, ..., 1055, 1055, 1055],\n",
       "       [1055, 1055, 1055, ..., 1055, 1055, 1055],\n",
       "       [1055, 1055, 1055, ..., 1055, 1055, 1055],\n",
       "       ...,\n",
       "       [1080, 1080, 1080, ..., 1080, 1080, 1080],\n",
       "       [1080, 1080, 1080, ..., 1080, 1080, 1080],\n",
       "       [1080, 1080, 1080, ..., 1080, 1080, 1080]])"
      ]
     },
     "execution_count": 12,
     "metadata": {},
     "output_type": "execute_result"
    }
   ],
   "source": [
    "x_end_df_train"
   ]
  },
  {
   "cell_type": "code",
   "execution_count": null,
   "metadata": {
    "id": "4o-5WM6RUTtF"
   },
   "outputs": [],
   "source": [
    "# Tính tọa độ center\n",
    "x_center_df_train = (x_start_df_train + x_end_df_train)/2\n",
    "y_center_df_train = (y_start_df_train + y_end_df_train)/2"
   ]
  },
  {
   "cell_type": "code",
   "execution_count": null,
   "metadata": {
    "id": "LcvzP7ijU5op"
   },
   "outputs": [],
   "source": [
    "# Lưu file csv cho dữ liệu center \n",
    "pd.DataFrame(x_center_df_train).to_csv(\"/content/gdrive/MyDrive/Teaching Assistant Saturday/My code/week 4/Minh/data/train/my_x_center_train_20.csv\", index = False)\n",
    "pd.DataFrame(y_center_df_train).to_csv(\"/content/gdrive/MyDrive/Teaching Assistant Saturday/My code/week 4/Minh/data/train/my_y_center_train_20.csv\", index = False)"
   ]
  },
  {
   "cell_type": "markdown",
   "metadata": {
    "id": "Xb4P9Zhva54W"
   },
   "source": [
    "#### **Đọc lại bộ dữ liệu mới**"
   ]
  },
  {
   "cell_type": "code",
   "execution_count": null,
   "metadata": {
    "id": "bZNfBPwKak__"
   },
   "outputs": [],
   "source": [
    "x_center_df_train = pd.read_csv(\"/content/gdrive/MyDrive/Teaching Assistant Saturday/My code/week 4/Minh/data/train/my_x_center_train_20.csv\", names = list(range(1, 22, 1))).to_numpy()\n",
    "y_center_df_train = pd.read_csv(\"/content/gdrive/MyDrive/Teaching Assistant Saturday/My code/week 4/Minh/data/train/my_y_center_train_20.csv\", names = list(range(1, 22, 1))).to_numpy()"
   ]
  },
  {
   "cell_type": "markdown",
   "metadata": {
    "id": "roJM2Gmbg2wL"
   },
   "source": [
    "### **Xây dựng model**"
   ]
  },
  {
   "cell_type": "markdown",
   "metadata": {
    "id": "GBa0dknUJtXK"
   },
   "source": [
    "#### **NN**"
   ]
  },
  {
   "cell_type": "code",
   "execution_count": null,
   "metadata": {
    "id": "94ssUFZzJs3v"
   },
   "outputs": [],
   "source": [
    "def simple_NN(input_shape = (20, 1)):\n",
    "  input = Input(shape = input_shape)\n",
    "  x = Dense(16, activation = \"relu\")(input)\n",
    "  x = Dropout(0.2)(x)\n",
    "  x = Dense(8, activation = \"relu\")(x)\n",
    "  x = Dropout(0.2)(x)\n",
    "  output = Dense(1, activation = \"linear\")(x)\n",
    "\n",
    "  model = Model(inputs = input, outputs = output)\n",
    "  model.summary()\n",
    "\n",
    "  return model"
   ]
  },
  {
   "cell_type": "markdown",
   "metadata": {
    "id": "lSavKtaEObAc"
   },
   "source": [
    "#### **Vanilla LSTM**"
   ]
  },
  {
   "cell_type": "code",
   "execution_count": null,
   "metadata": {
    "id": "nDhdhjqFXPyP"
   },
   "outputs": [],
   "source": [
    "def simple_vanilla_LSTM(input_shape = (20, 1)):\n",
    "  input = Input(shape = input_shape)\n",
    "  x = LSTM(8)(input)\n",
    "  x = Dense(4, activation = \"relu\")(x)\n",
    "  x = Dropout(0.35)(x)\n",
    "  output = Dense(1, activation = \"linear\")(x)\n",
    "\n",
    "  model = Model(inputs = input, outputs = output)\n",
    "  model.summary()\n",
    "\n",
    "  return model"
   ]
  },
  {
   "cell_type": "code",
   "execution_count": null,
   "metadata": {
    "colab": {
     "base_uri": "https://localhost:8080/"
    },
    "executionInfo": {
     "elapsed": 3429,
     "status": "ok",
     "timestamp": 1640430291572,
     "user": {
      "displayName": "Đặng Quang Minh",
      "photoUrl": "https://lh3.googleusercontent.com/a/default-user=s64",
      "userId": "06179808321718262828"
     },
     "user_tz": -420
    },
    "id": "zyVJR71qOG5m",
    "outputId": "2b9f329b-c5cf-4e17-c88a-7b05a7c7fd85"
   },
   "outputs": [
    {
     "name": "stdout",
     "output_type": "stream",
     "text": [
      "Model: \"model\"\n",
      "_________________________________________________________________\n",
      " Layer (type)                Output Shape              Param #   \n",
      "=================================================================\n",
      " input_1 (InputLayer)        [(None, 20, 1)]           0         \n",
      "                                                                 \n",
      " lstm (LSTM)                 (None, 8)                 320       \n",
      "                                                                 \n",
      " dense (Dense)               (None, 4)                 36        \n",
      "                                                                 \n",
      " dropout (Dropout)           (None, 4)                 0         \n",
      "                                                                 \n",
      " dense_1 (Dense)             (None, 1)                 5         \n",
      "                                                                 \n",
      "=================================================================\n",
      "Total params: 361\n",
      "Trainable params: 361\n",
      "Non-trainable params: 0\n",
      "_________________________________________________________________\n"
     ]
    }
   ],
   "source": [
    "vanilla = simple_vanilla_LSTM()"
   ]
  },
  {
   "cell_type": "markdown",
   "metadata": {
    "id": "xM8hzBKJkISb"
   },
   "source": [
    "#### **NN**"
   ]
  },
  {
   "cell_type": "code",
   "execution_count": null,
   "metadata": {
    "colab": {
     "base_uri": "https://localhost:8080/"
    },
    "executionInfo": {
     "elapsed": 312,
     "status": "ok",
     "timestamp": 1640430293869,
     "user": {
      "displayName": "Đặng Quang Minh",
      "photoUrl": "https://lh3.googleusercontent.com/a/default-user=s64",
      "userId": "06179808321718262828"
     },
     "user_tz": -420
    },
    "id": "bDIbdtaxKAKQ",
    "outputId": "359d641c-e34d-4e7f-beff-84b00ef09cca"
   },
   "outputs": [
    {
     "name": "stdout",
     "output_type": "stream",
     "text": [
      "Model: \"model_1\"\n",
      "_________________________________________________________________\n",
      " Layer (type)                Output Shape              Param #   \n",
      "=================================================================\n",
      " input_2 (InputLayer)        [(None, 20, 1)]           0         \n",
      "                                                                 \n",
      " dense_2 (Dense)             (None, 20, 16)            32        \n",
      "                                                                 \n",
      " dropout_1 (Dropout)         (None, 20, 16)            0         \n",
      "                                                                 \n",
      " dense_3 (Dense)             (None, 20, 8)             136       \n",
      "                                                                 \n",
      " dropout_2 (Dropout)         (None, 20, 8)             0         \n",
      "                                                                 \n",
      " dense_4 (Dense)             (None, 20, 1)             9         \n",
      "                                                                 \n",
      "=================================================================\n",
      "Total params: 177\n",
      "Trainable params: 177\n",
      "Non-trainable params: 0\n",
      "_________________________________________________________________\n"
     ]
    }
   ],
   "source": [
    "nn = simple_NN()"
   ]
  },
  {
   "cell_type": "markdown",
   "metadata": {
    "id": "kRq8lzVZPAQy"
   },
   "source": [
    "### **Huấn luyện mô hình**"
   ]
  },
  {
   "cell_type": "markdown",
   "metadata": {
    "id": "HbF4r1RbPo5M"
   },
   "source": [
    "#### **Tọa độ x**"
   ]
  },
  {
   "cell_type": "code",
   "execution_count": null,
   "metadata": {
    "id": "4WXeaBR0sx5-"
   },
   "outputs": [],
   "source": [
    "(xI - xmin)/(xmax - xmin)"
   ]
  },
  {
   "cell_type": "code",
   "execution_count": null,
   "metadata": {
    "id": "FHOLRu8UTrDL"
   },
   "outputs": [],
   "source": [
    "def my_min_max_scaler(data, p):\n",
    "  return data/p"
   ]
  },
  {
   "cell_type": "code",
   "execution_count": null,
   "metadata": {
    "colab": {
     "base_uri": "https://localhost:8080/"
    },
    "executionInfo": {
     "elapsed": 5,
     "status": "ok",
     "timestamp": 1640428516265,
     "user": {
      "displayName": "Đặng Quang Minh",
      "photoUrl": "https://lh3.googleusercontent.com/a/default-user=s64",
      "userId": "06179808321718262828"
     },
     "user_tz": -420
    },
    "id": "_XujTuFwOjKw",
    "outputId": "994c4f2a-8776-4491-86a7-0f9f0995e415"
   },
   "outputs": [
    {
     "name": "stdout",
     "output_type": "stream",
     "text": [
      "(745199, 20)\n",
      "(745199,)\n"
     ]
    }
   ],
   "source": [
    "df_train = my_min_max_scaler(x_center_df_train, 1600.0)\n",
    "X_x, y_x = df_train[:, :(df_train.shape[1] - 1)], df_train[:, (df_train.shape[1] - 1)]\n",
    "print(X_x.shape)\n",
    "print(y_x.shape)"
   ]
  },
  {
   "cell_type": "code",
   "execution_count": null,
   "metadata": {
    "colab": {
     "base_uri": "https://localhost:8080/"
    },
    "executionInfo": {
     "elapsed": 7,
     "status": "ok",
     "timestamp": 1640428519393,
     "user": {
      "displayName": "Đặng Quang Minh",
      "photoUrl": "https://lh3.googleusercontent.com/a/default-user=s64",
      "userId": "06179808321718262828"
     },
     "user_tz": -420
    },
    "id": "RJ2WpfAkQf7H",
    "outputId": "3861f7c8-78ed-4b48-b68f-af80ed486b94"
   },
   "outputs": [
    {
     "name": "stdout",
     "output_type": "stream",
     "text": [
      "(596159, 20, 1)\n",
      "(149040, 20, 1)\n"
     ]
    }
   ],
   "source": [
    "X_x_train, X_x_val, y_x_train, y_x_val = train_test_split(X_x, y_x, test_size = 0.2)\n",
    "X_x_train = X_x_train.reshape((X_x_train.shape[0], X_x_train.shape[1], 1))\n",
    "X_x_val = X_x_val.reshape((X_x_val.shape[0], X_x_val.shape[1], 1))\n",
    "print(X_x_train.shape)\n",
    "print(X_x_val.shape)"
   ]
  },
  {
   "cell_type": "code",
   "execution_count": null,
   "metadata": {
    "id": "uobsaoGYVGHu"
   },
   "outputs": [],
   "source": [
    "vanilla.compile(loss = \"mean_squared_error\", optimizer = Adam(learning_rate = 0.001))\n",
    "callback = [ModelCheckpoint(r\"/content/gdrive/MyDrive/Teaching Assistant Saturday/My code/week 4/Minh/data/Best model for x/LSTM_x.h5\", save_best_only=True, monitor=\"val_loss\")]"
   ]
  },
  {
   "cell_type": "code",
   "execution_count": null,
   "metadata": {
    "colab": {
     "base_uri": "https://localhost:8080/"
    },
    "executionInfo": {
     "elapsed": 246466,
     "status": "ok",
     "timestamp": 1640417823921,
     "user": {
      "displayName": "Đặng Quang Minh",
      "photoUrl": "https://lh3.googleusercontent.com/a/default-user=s64",
      "userId": "06179808321718262828"
     },
     "user_tz": -420
    },
    "id": "oVdKDPBoW67J",
    "outputId": "9b37a277-55c5-4271-c495-650e641eda8f"
   },
   "outputs": [
    {
     "name": "stdout",
     "output_type": "stream",
     "text": [
      "Epoch 1/5\n",
      "9315/9315 [==============================] - 72s 8ms/step - loss: 0.0111 - val_loss: 5.2339e-04\n",
      "Epoch 2/5\n",
      "9315/9315 [==============================] - 68s 7ms/step - loss: 0.0018 - val_loss: 4.6990e-04\n",
      "Epoch 3/5\n",
      "9315/9315 [==============================] - 69s 7ms/step - loss: 0.0018 - val_loss: 4.6841e-04\n",
      "Epoch 4/5\n",
      "9315/9315 [==============================] - 72s 8ms/step - loss: 0.0018 - val_loss: 5.8134e-04\n",
      "Epoch 5/5\n",
      "9315/9315 [==============================] - 69s 7ms/step - loss: 0.0017 - val_loss: 4.5254e-04\n"
     ]
    }
   ],
   "source": [
    "steps_per_epoch = X_x_train.shape[0] // 64 + 1\n",
    "validation_step = X_x_val.shape[0] // 64 + 1\n",
    "history = vanilla.fit(X_x_train, y_x_train, validation_data= (X_x_val, y_x_val), epochs = 5, batch_size = 64, steps_per_epoch = steps_per_epoch, callbacks = callback, validation_steps = validation_step)"
   ]
  },
  {
   "cell_type": "code",
   "execution_count": null,
   "metadata": {
    "colab": {
     "base_uri": "https://localhost:8080/",
     "height": 295
    },
    "executionInfo": {
     "elapsed": 1389,
     "status": "ok",
     "timestamp": 1640418055278,
     "user": {
      "displayName": "Đặng Quang Minh",
      "photoUrl": "https://lh3.googleusercontent.com/a/default-user=s64",
      "userId": "06179808321718262828"
     },
     "user_tz": -420
    },
    "id": "CWVU-hD8X8qm",
    "outputId": "060883a4-5444-402a-ab18-93d1708d7168"
   },
   "outputs": [
    {
     "data": {
      "image/png": "[encoded data removed]",
      "text/plain": [
       "<Figure size 432x288 with 1 Axes>"
      ]
     },
     "metadata": {
      "needs_background": "light"
     },
     "output_type": "display_data"
    }
   ],
   "source": [
    "numOfEpoch = 5\n",
    "plt.plot(list(map(int, np.linspace(1, numOfEpoch, 5))), history.history['loss'], label='training loss')\n",
    "plt.plot(list(map(int, np.linspace(1, numOfEpoch, 5))), history.history['val_loss'], label='validation loss')\n",
    "plt.title(\"Loss\")\n",
    "plt.xlabel('Epoch')\n",
    "plt.ylabel('Loss')\n",
    "plt.show()"
   ]
  },
  {
   "cell_type": "markdown",
   "metadata": {
    "id": "Hh044f2sjw9b"
   },
   "source": [
    "#### **NN**"
   ]
  },
  {
   "cell_type": "code",
   "execution_count": null,
   "metadata": {
    "id": "HtElFnarKNjM"
   },
   "outputs": [],
   "source": [
    "nn.compile(loss = \"mean_squared_error\", optimizer = Adam(learning_rate = 0.001))\n",
    "callback = [ModelCheckpoint(r\"/content/gdrive/MyDrive/Teaching Assistant Saturday/My code/week 4/Minh/data/Best model for x/nn_x.h5\", save_best_only=True, monitor=\"val_loss\")]"
   ]
  },
  {
   "cell_type": "code",
   "execution_count": null,
   "metadata": {
    "colab": {
     "base_uri": "https://localhost:8080/"
    },
    "executionInfo": {
     "elapsed": 263231,
     "status": "ok",
     "timestamp": 1640428839588,
     "user": {
      "displayName": "Đặng Quang Minh",
      "photoUrl": "https://lh3.googleusercontent.com/a/default-user=s64",
      "userId": "06179808321718262828"
     },
     "user_tz": -420
    },
    "id": "DVVi_l-hKUXE",
    "outputId": "7e4b9b63-161b-4221-990a-2d99da74b73a"
   },
   "outputs": [
    {
     "name": "stdout",
     "output_type": "stream",
     "text": [
      "Epoch 1/5\n",
      "9315/9315 [==============================] - 59s 6ms/step - loss: 0.0129 - val_loss: 0.0079\n",
      "Epoch 2/5\n",
      "9315/9315 [==============================] - 49s 5ms/step - loss: 0.0079 - val_loss: 0.0079\n",
      "Epoch 3/5\n",
      "9315/9315 [==============================] - 51s 6ms/step - loss: 0.0079 - val_loss: 0.0079\n",
      "Epoch 4/5\n",
      "9315/9315 [==============================] - 53s 6ms/step - loss: 0.0079 - val_loss: 0.0079\n",
      "Epoch 5/5\n",
      "9315/9315 [==============================] - 48s 5ms/step - loss: 0.0079 - val_loss: 0.0079\n"
     ]
    }
   ],
   "source": [
    "steps_per_epoch = X_x_train.shape[0] // 64 + 1\n",
    "validation_step = X_x_val.shape[0] // 64 + 1\n",
    "history = nn.fit(X_x_train, y_x_train, validation_data= (X_x_val, y_x_val), epochs = 5, batch_size = 64, steps_per_epoch = steps_per_epoch, callbacks = callback, validation_steps = validation_step)"
   ]
  },
  {
   "cell_type": "code",
   "execution_count": null,
   "metadata": {
    "colab": {
     "base_uri": "https://localhost:8080/",
     "height": 295
    },
    "executionInfo": {
     "elapsed": 581,
     "status": "ok",
     "timestamp": 1640428856546,
     "user": {
      "displayName": "Đặng Quang Minh",
      "photoUrl": "https://lh3.googleusercontent.com/a/default-user=s64",
      "userId": "06179808321718262828"
     },
     "user_tz": -420
    },
    "id": "A1vpCBalKbld",
    "outputId": "a7c7cc74-8354-415e-904b-a29c923b0270"
   },
   "outputs": [
    {
     "data": {
      "image/png": "[encoded data removed]",
      "text/plain": [
       "<Figure size 432x288 with 1 Axes>"
      ]
     },
     "metadata": {
      "needs_background": "light"
     },
     "output_type": "display_data"
    }
   ],
   "source": [
    "numOfEpoch = 5\n",
    "plt.plot(list(map(int, np.linspace(1, numOfEpoch, 5))), history.history['loss'], label='training loss')\n",
    "plt.plot(list(map(int, np.linspace(1, numOfEpoch, 5))), history.history['val_loss'], label='validation loss')\n",
    "plt.title(\"Loss\")\n",
    "plt.xlabel('Epoch')\n",
    "plt.ylabel('Loss')\n",
    "plt.show()"
   ]
  },
  {
   "cell_type": "markdown",
   "metadata": {
    "id": "xLAZDHWmi3DY"
   },
   "source": [
    "#### **Test**"
   ]
  },
  {
   "cell_type": "code",
   "execution_count": null,
   "metadata": {
    "id": "cPjDH06viUPE"
   },
   "outputs": [],
   "source": [
    "x_start_df_test = pd.read_csv(\"/content/gdrive/MyDrive/Teaching Assistant Saturday/My code/week 4/Minh/data/test/export_data_x_start_test_20.csv\", names = list(range(1, 22, 1)))\n",
    "x_end_df_test = pd.read_csv(\"/content/gdrive/MyDrive/Teaching Assistant Saturday/My code/week 4/Minh/data/test/export_data_x_end_test_20.csv\", names = list(range(1, 22, 1)))\n",
    "y_start_df_test = pd.read_csv(\"/content/gdrive/MyDrive/Teaching Assistant Saturday/My code/week 4/Minh/data/test/export_data_y_start_test_20.csv\", names = list(range(1, 22, 1)))\n",
    "y_end_df_test = pd.read_csv(\"/content/gdrive/MyDrive/Teaching Assistant Saturday/My code/week 4/Minh/data/test/export_data_y_end_test_20.csv\", names = list(range(1, 22, 1)))"
   ]
  },
  {
   "cell_type": "code",
   "execution_count": null,
   "metadata": {
    "id": "dIV-cKg1fvGT"
   },
   "outputs": [],
   "source": [
    "# Xử lí dữ liệu -1\n",
    "x_start_df_test = deal_with_interuption(x_start_df_test)\n",
    "y_start_df_test = deal_with_interuption(y_start_df_test)\n",
    "x_end_df_test = deal_with_interuption(x_end_df_test)\n",
    "y_end_df_test = deal_with_interuption(y_end_df_test)"
   ]
  },
  {
   "cell_type": "code",
   "execution_count": null,
   "metadata": {
    "id": "bWlcYHqdjyoO"
   },
   "outputs": [],
   "source": [
    "# Tính tọa độ center\n",
    "x_center_df_test = (x_start_df_test + x_end_df_test)/2\n",
    "y_center_df_test = (y_start_df_test + y_end_df_test)/2"
   ]
  },
  {
   "cell_type": "code",
   "execution_count": null,
   "metadata": {
    "id": "yaXGdh0HkLye"
   },
   "outputs": [],
   "source": [
    "# Lưu file csv cho dữ liệu center \n",
    "pd.DataFrame(x_center_df_test).to_csv(\"/content/gdrive/MyDrive/Teaching Assistant Saturday/My code/week 4/Minh/data/test/my_x_center_test_20.csv\", index = False)\n",
    "pd.DataFrame(y_center_df_test).to_csv(\"/content/gdrive/MyDrive/Teaching Assistant Saturday/My code/week 4/Minh/data/test/my_y_center_test_20.csv\", index = False)"
   ]
  },
  {
   "cell_type": "code",
   "execution_count": null,
   "metadata": {
    "colab": {
     "base_uri": "https://localhost:8080/"
    },
    "executionInfo": {
     "elapsed": 484,
     "status": "ok",
     "timestamp": 1640428941986,
     "user": {
      "displayName": "Đặng Quang Minh",
      "photoUrl": "https://lh3.googleusercontent.com/a/default-user=s64",
      "userId": "06179808321718262828"
     },
     "user_tz": -420
    },
    "id": "HbfoJy4rkbxW",
    "outputId": "b944120a-9068-42ed-902f-e41de0d1c809"
   },
   "outputs": [
    {
     "name": "stdout",
     "output_type": "stream",
     "text": [
      "(319372, 20)\n",
      "(319372,)\n"
     ]
    }
   ],
   "source": [
    "df_test = my_min_max_scaler(x_center_df_test, 1600.0)\n",
    "X_x, y_x = df_test[:, :(df_test.shape[1] - 1)], df_test[:, (df_test.shape[1] - 1)]\n",
    "print(X_x.shape)\n",
    "print(y_x.shape)"
   ]
  },
  {
   "cell_type": "code",
   "execution_count": null,
   "metadata": {
    "id": "gi0ACnHzkt26"
   },
   "outputs": [],
   "source": [
    "X_x = X_x.reshape((X_x.shape[0], X_x.shape[1], 1))"
   ]
  },
  {
   "cell_type": "code",
   "execution_count": null,
   "metadata": {
    "id": "Ya8EwYOwk7Tm"
   },
   "outputs": [],
   "source": [
    "model = load_model(\"/content/gdrive/MyDrive/Teaching Assistant Saturday/My code/week 4/Minh/data/Best model for x/LSTM_x.h5\")"
   ]
  },
  {
   "cell_type": "code",
   "execution_count": null,
   "metadata": {
    "colab": {
     "base_uri": "https://localhost:8080/"
    },
    "executionInfo": {
     "elapsed": 43177,
     "status": "ok",
     "timestamp": 1640419205398,
     "user": {
      "displayName": "Đặng Quang Minh",
      "photoUrl": "https://lh3.googleusercontent.com/a/default-user=s64",
      "userId": "06179808321718262828"
     },
     "user_tz": -420
    },
    "id": "k8ghdVLMlJDn",
    "outputId": "bc193308-8fd0-474b-df32-b06caadff7c9"
   },
   "outputs": [
    {
     "name": "stdout",
     "output_type": "stream",
     "text": [
      "9981/9981 [==============================] - 43s 4ms/step - loss: 3.4700e-04\n"
     ]
    },
    {
     "data": {
      "text/plain": [
       "0.00034699824755080044"
      ]
     },
     "execution_count": 67,
     "metadata": {},
     "output_type": "execute_result"
    }
   ],
   "source": [
    "model.evaluate(X_x, y_x)"
   ]
  },
  {
   "cell_type": "markdown",
   "metadata": {
    "id": "T60C37Wuj4Tr"
   },
   "source": [
    "#### **Test NN**"
   ]
  },
  {
   "cell_type": "code",
   "execution_count": null,
   "metadata": {
    "id": "rRblWXgDLx9E"
   },
   "outputs": [],
   "source": [
    "model_nn = load_model(\"/content/gdrive/MyDrive/Teaching Assistant Saturday/My code/week 4/Minh/data/Best model for x/nn_x.h5\")"
   ]
  },
  {
   "cell_type": "code",
   "execution_count": null,
   "metadata": {
    "colab": {
     "base_uri": "https://localhost:8080/"
    },
    "executionInfo": {
     "elapsed": 41189,
     "status": "ok",
     "timestamp": 1640429027967,
     "user": {
      "displayName": "Đặng Quang Minh",
      "photoUrl": "https://lh3.googleusercontent.com/a/default-user=s64",
      "userId": "06179808321718262828"
     },
     "user_tz": -420
    },
    "id": "DVjW3lsnL6KC",
    "outputId": "4c37a228-05e4-485a-92e7-54625ffa292a"
   },
   "outputs": [
    {
     "name": "stdout",
     "output_type": "stream",
     "text": [
      "9981/9981 [==============================] - 37s 4ms/step - loss: 0.0061\n"
     ]
    },
    {
     "data": {
      "text/plain": [
       "0.0061292159371078014"
      ]
     },
     "execution_count": 24,
     "metadata": {},
     "output_type": "execute_result"
    }
   ],
   "source": [
    "model_nn.evaluate(X_x, y_x)"
   ]
  },
  {
   "cell_type": "markdown",
   "metadata": {
    "id": "Z6rEczITmgXs"
   },
   "source": [
    "#### **Tọa độ y**"
   ]
  },
  {
   "cell_type": "code",
   "execution_count": null,
   "metadata": {
    "colab": {
     "base_uri": "https://localhost:8080/"
    },
    "executionInfo": {
     "elapsed": 311,
     "status": "ok",
     "timestamp": 1640430323461,
     "user": {
      "displayName": "Đặng Quang Minh",
      "photoUrl": "https://lh3.googleusercontent.com/a/default-user=s64",
      "userId": "06179808321718262828"
     },
     "user_tz": -420
    },
    "id": "xoNddbm2lMA2",
    "outputId": "e638a028-a076-41c0-9463-36b0ba831331"
   },
   "outputs": [
    {
     "name": "stdout",
     "output_type": "stream",
     "text": [
      "(745199, 20)\n",
      "(745199,)\n"
     ]
    }
   ],
   "source": [
    "df_train = my_min_max_scaler(y_center_df_train, 1080.0)\n",
    "X_x, y_x = df_train[:, :(df_train.shape[1] - 1)], df_train[:, (df_train.shape[1] - 1)]\n",
    "print(X_x.shape)\n",
    "print(y_x.shape)"
   ]
  },
  {
   "cell_type": "code",
   "execution_count": null,
   "metadata": {
    "colab": {
     "base_uri": "https://localhost:8080/"
    },
    "executionInfo": {
     "elapsed": 310,
     "status": "ok",
     "timestamp": 1640430329050,
     "user": {
      "displayName": "Đặng Quang Minh",
      "photoUrl": "https://lh3.googleusercontent.com/a/default-user=s64",
      "userId": "06179808321718262828"
     },
     "user_tz": -420
    },
    "id": "Yot7XCO4mqb-",
    "outputId": "4e0979ed-964a-4c3a-968a-74108b29104a"
   },
   "outputs": [
    {
     "name": "stdout",
     "output_type": "stream",
     "text": [
      "(596159, 20, 1)\n",
      "(149040, 20, 1)\n"
     ]
    }
   ],
   "source": [
    "X_x_train, X_x_val, y_x_train, y_x_val = train_test_split(X_x, y_x, test_size = 0.2)\n",
    "X_x_train = X_x_train.reshape((X_x_train.shape[0], X_x_train.shape[1], 1))\n",
    "X_x_val = X_x_val.reshape((X_x_val.shape[0], X_x_val.shape[1], 1))\n",
    "print(X_x_train.shape)\n",
    "print(X_x_val.shape)"
   ]
  },
  {
   "cell_type": "code",
   "execution_count": null,
   "metadata": {
    "id": "IQTiMyWsmtk2"
   },
   "outputs": [],
   "source": [
    "vanilla.compile(loss = \"mean_squared_error\", optimizer = Adam(learning_rate = 0.001))\n",
    "callback = [ModelCheckpoint(r\"/content/gdrive/MyDrive/Teaching Assistant Saturday/My code/week 4/Minh/data/Best model for x/LSTM_y.h5\", save_best_only=True, monitor=\"val_loss\")]"
   ]
  },
  {
   "cell_type": "code",
   "execution_count": null,
   "metadata": {
    "colab": {
     "base_uri": "https://localhost:8080/"
    },
    "executionInfo": {
     "elapsed": 384890,
     "status": "ok",
     "timestamp": 1640420321816,
     "user": {
      "displayName": "Đặng Quang Minh",
      "photoUrl": "https://lh3.googleusercontent.com/a/default-user=s64",
      "userId": "06179808321718262828"
     },
     "user_tz": -420
    },
    "id": "IwM--9ormyUi",
    "outputId": "44273cc8-120f-4908-8ecd-e231bb5faa82"
   },
   "outputs": [
    {
     "name": "stdout",
     "output_type": "stream",
     "text": [
      "Epoch 1/5\n",
      "9315/9315 [==============================] - 88s 9ms/step - loss: 0.0053 - val_loss: 5.3325e-04\n",
      "Epoch 2/5\n",
      "9315/9315 [==============================] - 69s 7ms/step - loss: 0.0017 - val_loss: 4.8776e-04\n",
      "Epoch 3/5\n",
      "9315/9315 [==============================] - 69s 7ms/step - loss: 0.0017 - val_loss: 5.4318e-04\n",
      "Epoch 4/5\n",
      "9315/9315 [==============================] - 69s 7ms/step - loss: 0.0017 - val_loss: 4.5779e-04\n",
      "Epoch 5/5\n",
      "9315/9315 [==============================] - 68s 7ms/step - loss: 0.0017 - val_loss: 5.6312e-04\n"
     ]
    }
   ],
   "source": [
    "steps_per_epoch = X_x_train.shape[0] // 64 + 1\n",
    "validation_step = X_x_val.shape[0] // 64 + 1\n",
    "history = vanilla.fit(X_x_train, y_x_train, validation_data= (X_x_val, y_x_val), epochs = 5, batch_size = 64, steps_per_epoch = steps_per_epoch, callbacks = callback, validation_steps = validation_step)"
   ]
  },
  {
   "cell_type": "code",
   "execution_count": null,
   "metadata": {
    "colab": {
     "base_uri": "https://localhost:8080/",
     "height": 295
    },
    "executionInfo": {
     "elapsed": 393,
     "status": "ok",
     "timestamp": 1640420482648,
     "user": {
      "displayName": "Đặng Quang Minh",
      "photoUrl": "https://lh3.googleusercontent.com/a/default-user=s64",
      "userId": "06179808321718262828"
     },
     "user_tz": -420
    },
    "id": "mqz2slZtrefC",
    "outputId": "c4b72ea2-bc6a-4ab7-b39c-eff347893fdb"
   },
   "outputs": [
    {
     "data": {
      "image/png": "[encoded data removed]",
      "text/plain": [
       "<Figure size 432x288 with 1 Axes>"
      ]
     },
     "metadata": {
      "needs_background": "light"
     },
     "output_type": "display_data"
    }
   ],
   "source": [
    "numOfEpoch = 5\n",
    "plt.plot(list(map(int, np.linspace(1, numOfEpoch, 5))), history.history['loss'], label='training loss')\n",
    "plt.plot(list(map(int, np.linspace(1, numOfEpoch, 5))), history.history['val_loss'], label='validation loss')\n",
    "plt.title(\"Loss\")\n",
    "plt.xlabel('Epoch')\n",
    "plt.ylabel('Loss')\n",
    "plt.show()"
   ]
  },
  {
   "cell_type": "code",
   "execution_count": null,
   "metadata": {
    "id": "qhacQMNSRHQN"
   },
   "outputs": [],
   "source": [
    "nn.compile(loss = \"mean_squared_error\", optimizer = Adam(learning_rate = 0.001))\n",
    "callback = [ModelCheckpoint(r\"/content/gdrive/MyDrive/Teaching Assistant Saturday/My code/week 4/Minh/data/Best model for x/nn_y.h5\", save_best_only=True, monitor=\"val_loss\")]"
   ]
  },
  {
   "cell_type": "code",
   "execution_count": null,
   "metadata": {
    "colab": {
     "base_uri": "https://localhost:8080/"
    },
    "id": "4tAlV3fTRLuZ",
    "outputId": "84fff9f3-c0a4-42d6-fa98-ae4c67808fc9"
   },
   "outputs": [
    {
     "name": "stdout",
     "output_type": "stream",
     "text": [
      "Epoch 1/5\n",
      "9315/9315 [==============================] - 69s 7ms/step - loss: 0.0074 - val_loss: 0.0058\n",
      "Epoch 2/5\n",
      "9315/9315 [==============================] - 74s 8ms/step - loss: 0.0058 - val_loss: 0.0058\n",
      "Epoch 3/5\n",
      "9315/9315 [==============================] - 86s 9ms/step - loss: 0.0058 - val_loss: 0.0058\n",
      "Epoch 4/5\n",
      "9315/9315 [==============================] - 63s 7ms/step - loss: 0.0058 - val_loss: 0.0058\n",
      "Epoch 5/5\n",
      "3585/9315 [==========>...................] - ETA: 45s - loss: 0.0058"
     ]
    }
   ],
   "source": [
    "steps_per_epoch = X_x_train.shape[0] // 64 + 1\n",
    "validation_step = X_x_val.shape[0] // 64 + 1\n",
    "history = nn.fit(X_x_train, y_x_train, validation_data= (X_x_val, y_x_val), epochs = 5, batch_size = 64, steps_per_epoch = steps_per_epoch, callbacks = callback, validation_steps = validation_step)"
   ]
  },
  {
   "cell_type": "markdown",
   "metadata": {
    "id": "B5oz72hHoh-y"
   },
   "source": [
    "#### **Test**"
   ]
  },
  {
   "cell_type": "code",
   "execution_count": null,
   "metadata": {
    "colab": {
     "base_uri": "https://localhost:8080/"
    },
    "executionInfo": {
     "elapsed": 350,
     "status": "ok",
     "timestamp": 1640433289822,
     "user": {
      "displayName": "Đặng Quang Minh",
      "photoUrl": "https://lh3.googleusercontent.com/a/default-user=s64",
      "userId": "06179808321718262828"
     },
     "user_tz": -420
    },
    "id": "CHc4aeLjm-do",
    "outputId": "523d84d2-9ba5-4472-b373-073bd3eb4133"
   },
   "outputs": [
    {
     "name": "stdout",
     "output_type": "stream",
     "text": [
      "(319372, 20)\n",
      "(319372,)\n"
     ]
    }
   ],
   "source": [
    "df_test = my_min_max_scaler(y_center_df_test, 1080.0)\n",
    "X_x, y_x = df_test[:, :(df_test.shape[1] - 1)], df_test[:, (df_test.shape[1] - 1)]\n",
    "print(X_x.shape)\n",
    "print(y_x.shape)"
   ]
  },
  {
   "cell_type": "code",
   "execution_count": null,
   "metadata": {
    "id": "C_NkImHnrA6F"
   },
   "outputs": [],
   "source": [
    "X_x = X_x.reshape((X_x.shape[0], X_x.shape[1], 1))"
   ]
  },
  {
   "cell_type": "code",
   "execution_count": null,
   "metadata": {
    "id": "PdeiQFGZrD65"
   },
   "outputs": [],
   "source": [
    "model = load_model(\"/content/gdrive/MyDrive/Teaching Assistant Saturday/My code/week 4/Minh/data/Best model for x/LSTM_y.h5\")"
   ]
  },
  {
   "cell_type": "code",
   "execution_count": null,
   "metadata": {
    "colab": {
     "base_uri": "https://localhost:8080/"
    },
    "executionInfo": {
     "elapsed": 55165,
     "status": "ok",
     "timestamp": 1640420453014,
     "user": {
      "displayName": "Đặng Quang Minh",
      "photoUrl": "https://lh3.googleusercontent.com/a/default-user=s64",
      "userId": "06179808321718262828"
     },
     "user_tz": -420
    },
    "id": "uD7aenlGrKKO",
    "outputId": "3d3ec3d5-d274-4680-f6e2-bfed5dc22d04"
   },
   "outputs": [
    {
     "name": "stdout",
     "output_type": "stream",
     "text": [
      "9981/9981 [==============================] - 39s 4ms/step - loss: 3.8319e-04\n"
     ]
    },
    {
     "data": {
      "text/plain": [
       "0.00038318976294249296"
      ]
     },
     "execution_count": 84,
     "metadata": {},
     "output_type": "execute_result"
    }
   ],
   "source": [
    "model.evaluate(X_x, y_x)"
   ]
  },
  {
   "cell_type": "markdown",
   "metadata": {
    "id": "GFHI0xYHj-3E"
   },
   "source": [
    "#### **Test NN**"
   ]
  },
  {
   "cell_type": "code",
   "execution_count": null,
   "metadata": {
    "id": "_4C3Gv_7cakK"
   },
   "outputs": [],
   "source": [
    "model = load_model(\"/content/gdrive/MyDrive/Teaching Assistant Saturday/My code/week 4/Minh/data/Best model for x/nn_y.h5\")"
   ]
  },
  {
   "cell_type": "code",
   "execution_count": null,
   "metadata": {
    "colab": {
     "base_uri": "https://localhost:8080/"
    },
    "executionInfo": {
     "elapsed": 82664,
     "status": "ok",
     "timestamp": 1640433396114,
     "user": {
      "displayName": "Đặng Quang Minh",
      "photoUrl": "https://lh3.googleusercontent.com/a/default-user=s64",
      "userId": "06179808321718262828"
     },
     "user_tz": -420
    },
    "id": "BQTQ5zU_cdr3",
    "outputId": "3060f3ea-ee60-4bb3-e1f1-d942ab7f68fd"
   },
   "outputs": [
    {
     "name": "stdout",
     "output_type": "stream",
     "text": [
      "9981/9981 [==============================] - 42s 4ms/step - loss: 0.0051\n"
     ]
    },
    {
     "data": {
      "text/plain": [
       "0.005062442272901535"
      ]
     },
     "execution_count": 70,
     "metadata": {},
     "output_type": "execute_result"
    }
   ],
   "source": [
    "model.evaluate(X_x, y_x)"
   ]
  },
  {
   "cell_type": "markdown",
   "metadata": {
    "id": "VmTFaxnkrlTW"
   },
   "source": [
    "### Module: Cảnh báo va chạm"
   ]
  },
  {
   "cell_type": "markdown",
   "metadata": {
    "id": "xZHMnlWcTjc0"
   },
   "source": [
    "### **xe 1**"
   ]
  },
  {
   "cell_type": "code",
   "execution_count": null,
   "metadata": {
    "id": "JJfviyZQSVIz"
   },
   "outputs": [],
   "source": [
    "x_start1 = np.array([1037, 1037, 1037, 1038, 1038, 1038, 1038, 1038, 1038, 1037, 1038, 1037, 1038, 1038, 1038, 1038, 1038, 1038, 1038, 1038])\n",
    "y_start1 = np.array([345, 345, 345, 345, 345, 345, 345, 345, 345, 345, 345, 345, 345, 346, 345, 346, 345, 345, 345, 345])\n",
    "x_end1 = np.array([1054, 1054, 1054, 1055, 1055, 1055, 1055, 1055, 1055, 1055, 1055, 1054, 1055, 1054, 1055, 1055, 1055, 1055, 1055, 1055])\n",
    "y_end1 = np.array([394, 394, 394, 394, 394, 394, 394, 394, 394, 394, 394, 395, 395, 395, 395, 395, 395, 395, 395, 395])"
   ]
  },
  {
   "cell_type": "code",
   "execution_count": null,
   "metadata": {
    "id": "xuBpUMWTUXmW"
   },
   "outputs": [],
   "source": [
    "w1 = (x_start1[0] - x_end1[0])**2\n",
    "h1 = (y_start1[0] - y_end1[0])**2"
   ]
  },
  {
   "cell_type": "code",
   "execution_count": null,
   "metadata": {
    "id": "LDyleDGuU-Lm"
   },
   "outputs": [],
   "source": [
    "x_center1 = (x_start1 + x_end1)/2\n",
    "y_center1 = (y_start1 + y_end1)/2"
   ]
  },
  {
   "cell_type": "markdown",
   "metadata": {
    "id": "DVuWgGLNTo1w"
   },
   "source": [
    "### **xe 2**"
   ]
  },
  {
   "cell_type": "code",
   "execution_count": null,
   "metadata": {
    "id": "6HKmMSTrTfzv"
   },
   "outputs": [],
   "source": [
    "x_start2 = np.array([1040, 1040, 1040, 1041, 1041, 1041, 1041, 1041, 1042, 1042, 1043, 1043, 1044, 1045, 1045, 1046, 1047, 1047, 1048, 1049])\n",
    "y_start2 = np.array([348, 348, 348, 349, 349, 349, 350, 350, 351, 352, 352, 352, 353, 354, 354, 354, 354, 354, 348, 349])\n",
    "x_end2 = np.array([1055, 1056, 1055, 1056, 1056, 1056, 1056, 1056, 1056, 1056, 1056, 1056, 1056, 1056, 1056, 1056, 1057, 1057, 1057, 1057])\n",
    "y_end2 = np.array([394, 394, 394, 395, 395, 396, 397, 397, 398, 398, 398, 398, 398, 400, 400, 400, 400, 401, 401, 402])"
   ]
  },
  {
   "cell_type": "code",
   "execution_count": null,
   "metadata": {
    "id": "4iTIFufaU4p_"
   },
   "outputs": [],
   "source": [
    "w2 = (x_start2[0] - x_end2[0])**2\n",
    "h2 = (y_start2[0] - y_end2[0])**2"
   ]
  },
  {
   "cell_type": "code",
   "execution_count": null,
   "metadata": {
    "id": "7TeZv_l0VO90"
   },
   "outputs": [],
   "source": [
    "x_center2 = (x_start2 + x_end2)/2\n",
    "y_center2 = (y_start2 + y_end2)/2"
   ]
  },
  {
   "cell_type": "code",
   "execution_count": null,
   "metadata": {
    "id": "H_K71pCwrNDs"
   },
   "outputs": [],
   "source": [
    "from math import *\n",
    "def alarm_collision(model_x, model_y, x_s1, y_s1, x_s2, y_s2, num_frame, w1, h1, w2, h2, C = 2):\n",
    "  x_c1 = my_min_max_scaler(x_s1, 1600.0)\n",
    "  y_c1 = my_min_max_scaler(y_s1, 1080.0)\n",
    "\n",
    "  x_c2 = my_min_max_scaler(x_s2, 1600.0)\n",
    "  y_c2 = my_min_max_scaler(y_s2, 1080.0)\n",
    "\n",
    "  print(\"x1\\t y1\\t x2\\t y2\\t\")\n",
    "  for i in list(range(0, num_frame)):\n",
    "    next_x1 = model_x.predict([x_c1.reshape((20, 1))])[0]\n",
    "    next_y1 = model_y.predict([y_c1.reshape((20, 1))])[0]\n",
    "\n",
    "    next_x2 = model_x.predict([x_c2.reshape((20, 1))])[0]\n",
    "    next_y2 = model_y.predict([y_c2.reshape((20, 1))])[0]\n",
    "\n",
    "    if (abs(next_x1 - next_x2) <= (w1/2 + w2/2 + C)) or (abs(next_y1 - next_y2) <= (h1/2 + h2/2 + C)):\n",
    "      print(\"Warning collision :<\")\n",
    "\n",
    "    print(\"{}\\t {}\\t {}\\t {}\".format(next_x1*1600, next_y1*1080, next_x2*1600, next_y2*1080))\n",
    "\n",
    "    x_c1 = np.array(list(x_c1)[1:] + [next_x1]).astype(np.float32)\n",
    "    x_c2 = np.array(list(x_c2)[1:] + [next_x2]).astype(np.float32)\n",
    "    y_c2 = np.array(list(y_c2)[1:] + [next_y2]).astype(np.float32)\n",
    "    y_c1 = np.array(list(y_c1)[1:] + [next_y1]).astype(np.float32)\n",
    "\n"
   ]
  },
  {
   "cell_type": "code",
   "execution_count": null,
   "metadata": {
    "id": "a-FIZXkrW-1-"
   },
   "outputs": [],
   "source": [
    "model_x = load_model(\"/content/gdrive/MyDrive/Teaching Assistant Saturday/My code/week 4/Minh/data/Best model for x/LSTM_x.h5\")\n",
    "model_y = load_model(\"/content/gdrive/MyDrive/Teaching Assistant Saturday/My code/week 4/Minh/data/Best model for x/LSTM_y.h5\")"
   ]
  },
  {
   "cell_type": "code",
   "execution_count": null,
   "metadata": {
    "id": "8iOMS8ZWyxa5"
   },
   "outputs": [],
   "source": []
  },
  {
   "cell_type": "code",
   "execution_count": null,
   "metadata": {
    "colab": {
     "base_uri": "https://localhost:8080/"
    },
    "executionInfo": {
     "elapsed": 4084,
     "status": "ok",
     "timestamp": 1640433058502,
     "user": {
      "displayName": "Đặng Quang Minh",
      "photoUrl": "https://lh3.googleusercontent.com/a/default-user=s64",
      "userId": "06179808321718262828"
     },
     "user_tz": -420
    },
    "id": "Po7VHB4-THBu",
    "outputId": "b9cce407-663a-4b16-a47e-74253a781486"
   },
   "outputs": [
    {
     "name": "stdout",
     "output_type": "stream",
     "text": [
      "x1\t y1\t x2\t y2\t\n",
      "Warning collision :<\n",
      "[1137.978]\t [435.14093]\t [1139.6893]\t [436.25797]\n"
     ]
    },
    {
     "name": "stderr",
     "output_type": "stream",
     "text": [
      "/usr/local/lib/python3.7/dist-packages/ipykernel_launcher.py:22: VisibleDeprecationWarning: Creating an ndarray from ragged nested sequences (which is a list-or-tuple of lists-or-tuples-or ndarrays with different lengths or shapes) is deprecated. If you meant to do this, you must specify 'dtype=object' when creating the ndarray\n",
      "/usr/local/lib/python3.7/dist-packages/ipykernel_launcher.py:23: VisibleDeprecationWarning: Creating an ndarray from ragged nested sequences (which is a list-or-tuple of lists-or-tuples-or ndarrays with different lengths or shapes) is deprecated. If you meant to do this, you must specify 'dtype=object' when creating the ndarray\n",
      "/usr/local/lib/python3.7/dist-packages/ipykernel_launcher.py:24: VisibleDeprecationWarning: Creating an ndarray from ragged nested sequences (which is a list-or-tuple of lists-or-tuples-or ndarrays with different lengths or shapes) is deprecated. If you meant to do this, you must specify 'dtype=object' when creating the ndarray\n",
      "/usr/local/lib/python3.7/dist-packages/ipykernel_launcher.py:25: VisibleDeprecationWarning: Creating an ndarray from ragged nested sequences (which is a list-or-tuple of lists-or-tuples-or ndarrays with different lengths or shapes) is deprecated. If you meant to do this, you must specify 'dtype=object' when creating the ndarray\n"
     ]
    },
    {
     "name": "stdout",
     "output_type": "stream",
     "text": [
      "Warning collision :<\n",
      "[1137.978]\t [435.14093]\t [1140.1173]\t [436.25797]\n",
      "Warning collision :<\n",
      "[1137.978]\t [435.14093]\t [1139.6893]\t [436.25797]\n",
      "Warning collision :<\n",
      "[1138.8336]\t [435.14093]\t [1140.5452]\t [437.00323]\n",
      "Warning collision :<\n",
      "[1138.8336]\t [435.14093]\t [1140.5452]\t [437.00323]\n",
      "Warning collision :<\n",
      "[1138.8336]\t [435.14093]\t [1140.5452]\t [437.37604]\n",
      "Warning collision :<\n",
      "[1138.8336]\t [435.14093]\t [1140.5452]\t [438.12204]\n",
      "Warning collision :<\n",
      "[1138.8336]\t [435.14093]\t [1140.5452]\t [438.12204]\n",
      "Warning collision :<\n",
      "[1138.8336]\t [435.14093]\t [1140.9733]\t [438.86853]\n",
      "Warning collision :<\n",
      "[1138.4058]\t [435.14093]\t [1140.9733]\t [439.24194]\n"
     ]
    }
   ],
   "source": [
    "alarm_collision(model_x, model_y, x_center1, y_center1, x_center2, y_center2, 10, w1, h1, w2, h2)"
   ]
  },
  {
   "cell_type": "code",
   "execution_count": null,
   "metadata": {
    "id": "Ka7YtBzDTJY3"
   },
   "outputs": [],
   "source": []
  }
 ],
 "metadata": {
  "accelerator": "GPU",
  "colab": {
   "collapsed_sections": [
    "GBa0dknUJtXK",
    "xM8hzBKJkISb",
    "Hh044f2sjw9b",
    "T60C37Wuj4Tr",
    "GFHI0xYHj-3E"
   ],
   "name": "Warning_Collision.ipynb",
   "provenance": []
  },
  "kernelspec": {
   "display_name": "Python 3 (ipykernel)",
   "language": "python",
   "name": "python3"
  },
  "language_info": {
   "codemirror_mode": {
    "name": "ipython",
    "version": 3
   },
   "file_extension": ".py",
   "mimetype": "text/x-python",
   "name": "python",
   "nbconvert_exporter": "python",
   "pygments_lexer": "ipython3",
   "version": "3.8.10"
  }
 },
 "nbformat": 4,
 "nbformat_minor": 1
}
