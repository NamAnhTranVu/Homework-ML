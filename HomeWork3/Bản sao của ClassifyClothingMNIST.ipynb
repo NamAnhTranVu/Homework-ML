{
 "cells": [
  {
   "cell_type": "code",
   "execution_count": 3,
   "metadata": {
    "colab": {
     "base_uri": "https://localhost:8080/"
    },
    "executionInfo": {
     "elapsed": 2202,
     "status": "ok",
     "timestamp": 1605064736269,
     "user": {
      "displayName": "manh dao",
      "photoUrl": "",
      "userId": "03030387673752375719"
     },
     "user_tz": -420
    },
    "id": "Izku4KYoSdtH",
    "outputId": "76868762-c1e1-4267-e5f9-893df6e43e4c"
   },
   "outputs": [
    {
     "name": "stdout",
     "output_type": "stream",
     "text": [
      "2.3.0\n"
     ]
    }
   ],
   "source": [
    "# Libraries\n",
    "from __future__ import division, print_function, unicode_literals\n",
    "import numpy as np\n",
    "import matplotlib.pyplot as plt\n",
    "import tensorflow as tf\n",
    "from tensorflow import keras\n",
    "from tensorflow.keras import Sequential, layers, optimizers, losses\n",
    "\n",
    "print(tf.__version__)"
   ]
  },
  {
   "cell_type": "code",
   "execution_count": 4,
   "metadata": {
    "colab": {
     "base_uri": "https://localhost:8080/"
    },
    "executionInfo": {
     "elapsed": 1514,
     "status": "ok",
     "timestamp": 1605064742123,
     "user": {
      "displayName": "manh dao",
      "photoUrl": "",
      "userId": "03030387673752375719"
     },
     "user_tz": -420
    },
    "id": "vj8oKRNmUk7f",
    "outputId": "fbe7c7b7-c170-4cd7-bf20-d0ec28d2bdd9"
   },
   "outputs": [
    {
     "name": "stdout",
     "output_type": "stream",
     "text": [
      "Downloading data from https://storage.googleapis.com/tensorflow/tf-keras-datasets/train-labels-idx1-ubyte.gz\n",
      "32768/29515 [=================================] - 0s 0us/step\n",
      "Downloading data from https://storage.googleapis.com/tensorflow/tf-keras-datasets/train-images-idx3-ubyte.gz\n",
      "26427392/26421880 [==============================] - 0s 0us/step\n",
      "Downloading data from https://storage.googleapis.com/tensorflow/tf-keras-datasets/t10k-labels-idx1-ubyte.gz\n",
      "8192/5148 [===============================================] - 0s 0us/step\n",
      "Downloading data from https://storage.googleapis.com/tensorflow/tf-keras-datasets/t10k-images-idx3-ubyte.gz\n",
      "4423680/4422102 [==============================] - 0s 0us/step\n"
     ]
    }
   ],
   "source": [
    "# Import and load the Fashion MNIST data directly from TensorFlow\n",
    "fashion_mnist = tf.keras.datasets.fashion_mnist\n",
    "(train_images, train_labels), (test_images, test_labels) = fashion_mnist.load_data()"
   ]
  },
  {
   "cell_type": "code",
   "execution_count": 5,
   "metadata": {
    "executionInfo": {
     "elapsed": 808,
     "status": "ok",
     "timestamp": 1605064746974,
     "user": {
      "displayName": "manh dao",
      "photoUrl": "",
      "userId": "03030387673752375719"
     },
     "user_tz": -420
    },
    "id": "664D4RjfWrE_"
   },
   "outputs": [],
   "source": [
    "class_names = ['T-shirt/top', 'Trouser', 'Pullover', 'Dress', 'Coat', 'Sandal', 'Shirt', 'Sneaker', 'Bag', 'Ankle']"
   ]
  },
  {
   "cell_type": "markdown",
   "metadata": {
    "id": "4enSaQPOdM2s"
   },
   "source": [
    "Explore the data\n",
    "--\n",
    "Let's explore the format of the dataset before training the model. The following shows there are 60,000 images in the training set, with each image represented as 28 x 28 pixels:"
   ]
  },
  {
   "cell_type": "code",
   "execution_count": 6,
   "metadata": {
    "colab": {
     "base_uri": "https://localhost:8080/"
    },
    "executionInfo": {
     "elapsed": 980,
     "status": "ok",
     "timestamp": 1605064752022,
     "user": {
      "displayName": "manh dao",
      "photoUrl": "",
      "userId": "03030387673752375719"
     },
     "user_tz": -420
    },
    "id": "ms2LhWCvdJ7A",
    "outputId": "80f49251-231a-4e9f-a4f0-abb6183f8b10"
   },
   "outputs": [
    {
     "name": "stdout",
     "output_type": "stream",
     "text": [
      "(60000, 28, 28)\n",
      "60000\n",
      "[9 0 0 ... 3 0 5]\n",
      "\n",
      "\n",
      "(10000, 28, 28)\n",
      "10000\n"
     ]
    }
   ],
   "source": [
    "# With train images and labels\n",
    "print(train_images.shape)\n",
    "print(len(train_labels))\n",
    "print(train_labels)\n",
    "#print(train_images) # matrix is not neccessary to show\n",
    "\n",
    "print('\\n')\n",
    "# With test images\n",
    "print(test_images.shape)\n",
    "print(len(test_labels))\n",
    "#print(test_labels) # actually u won't have this :))))"
   ]
  },
  {
   "cell_type": "markdown",
   "metadata": {
    "id": "qPhl_vkxemLs"
   },
   "source": [
    "Preprocess the data\n",
    "--\n",
    "The data must be preprocessed before training the network. If you inspect the first image in the training set, you will see that the pixel values fall in the range of 0 to 255:"
   ]
  },
  {
   "cell_type": "code",
   "execution_count": 7,
   "metadata": {
    "colab": {
     "base_uri": "https://localhost:8080/",
     "height": 1000
    },
    "executionInfo": {
     "elapsed": 2453,
     "status": "ok",
     "timestamp": 1605064759339,
     "user": {
      "displayName": "manh dao",
      "photoUrl": "",
      "userId": "03030387673752375719"
     },
     "user_tz": -420
    },
    "id": "74AHvm8PeopM",
    "outputId": "6c2c1da2-6fb5-490b-e058-a225ea7e8c87"
   },
   "outputs": [
    {
     "data": {
      "image/png": "[encoded data removed]",
      "text/plain": [
       "<Figure size 432x288 with 2 Axes>"
      ]
     },
     "metadata": {
      "needs_background": "light",
      "tags": []
     },
     "output_type": "display_data"
    },
    {
     "data": {
      "image/png": "[encoded data removed]",
      "text/plain": [
       "<Figure size 432x288 with 2 Axes>"
      ]
     },
     "metadata": {
      "needs_background": "light",
      "tags": []
     },
     "output_type": "display_data"
    },
    {
     "data": {
      "image/png": "[encoded data removed]",
      "text/plain": [
       "<Figure size 432x288 with 2 Axes>"
      ]
     },
     "metadata": {
      "needs_background": "light",
      "tags": []
     },
     "output_type": "display_data"
    },
    {
     "data": {
      "image/png": "[encoded data removed]",
      "text/plain": [
       "<Figure size 432x288 with 2 Axes>"
      ]
     },
     "metadata": {
      "needs_background": "light",
      "tags": []
     },
     "output_type": "display_data"
    },
    {
     "data": {
      "image/png": "[encoded data removed]",
      "text/plain": [
       "<Figure size 432x288 with 2 Axes>"
      ]
     },
     "metadata": {
      "needs_background": "light",
      "tags": []
     },
     "output_type": "display_data"
    },
    {
     "data": {
      "image/png": "[encoded data removed]",
      "text/plain": [
       "<Figure size 432x288 with 2 Axes>"
      ]
     },
     "metadata": {
      "needs_background": "light",
      "tags": []
     },
     "output_type": "display_data"
    },
    {
     "data": {
      "image/png": "[encoded data removed]",
      "text/plain": [
       "<Figure size 432x288 with 2 Axes>"
      ]
     },
     "metadata": {
      "needs_background": "light",
      "tags": []
     },
     "output_type": "display_data"
    },
    {
     "data": {
      "image/png": "[encoded data removed]",
      "text/plain": [
       "<Figure size 432x288 with 2 Axes>"
      ]
     },
     "metadata": {
      "needs_background": "light",
      "tags": []
     },
     "output_type": "display_data"
    },
    {
     "data": {
      "image/png": "[encoded data removed]",
      "text/plain": [
       "<Figure size 432x288 with 2 Axes>"
      ]
     },
     "metadata": {
      "needs_background": "light",
      "tags": []
     },
     "output_type": "display_data"
    }
   ],
   "source": [
    "# show first 10 images in train_dataset\n",
    "for i in range(0, 9):\n",
    "  plt.figure()\n",
    "  plt.imshow(train_images[i])\n",
    "  plt.colorbar()\n",
    "  plt.grid(False) # grid true means ô có lưới\n",
    "plt.show()"
   ]
  },
  {
   "cell_type": "markdown",
   "metadata": {
    "id": "nmtqaPi3hDf3"
   },
   "source": [
    "Scale these values to a range of 0 to 1 before feeding them to the neural network model. To do so, divide the values by 255. It's important that the training set and the testing set be preprocessed in the same way:"
   ]
  },
  {
   "cell_type": "code",
   "execution_count": 8,
   "metadata": {
    "executionInfo": {
     "elapsed": 826,
     "status": "ok",
     "timestamp": 1605064769201,
     "user": {
      "displayName": "manh dao",
      "photoUrl": "",
      "userId": "03030387673752375719"
     },
     "user_tz": -420
    },
    "id": "CFmvZ5PkhF4H"
   },
   "outputs": [],
   "source": [
    "train_images = train_images / 255.0\n",
    "test_images = test_images / 255.0"
   ]
  },
  {
   "cell_type": "markdown",
   "metadata": {
    "id": "hjBDOEBahUU0"
   },
   "source": [
    "To verify that the data is in the correct format and that you're ready to build and train the network, let's display the first 25 images from the training set and display the class name below each image"
   ]
  },
  {
   "cell_type": "code",
   "execution_count": 9,
   "metadata": {
    "colab": {
     "base_uri": "https://localhost:8080/",
     "height": 589
    },
    "executionInfo": {
     "elapsed": 1705,
     "status": "ok",
     "timestamp": 1605064777345,
     "user": {
      "displayName": "manh dao",
      "photoUrl": "",
      "userId": "03030387673752375719"
     },
     "user_tz": -420
    },
    "id": "JBFFhXuxhVVc",
    "outputId": "c432fffb-e928-4b7b-8c87-a37d55c28457"
   },
   "outputs": [
    {
     "data": {
      "image/png": "[encoded data removed]",
      "text/plain": [
       "<Figure size 720x720 with 25 Axes>"
      ]
     },
     "metadata": {
      "tags": []
     },
     "output_type": "display_data"
    }
   ],
   "source": [
    "plt.figure(figsize=(10, 10))\n",
    "for i in range (25):\n",
    "  plt.subplot(5, 5, i+1)\n",
    "  plt.xticks([])\n",
    "  plt.yticks([])\n",
    "  plt.grid(False)\n",
    "  plt.imshow(train_images[i], cmap=plt.cm.binary)\n",
    "  plt.xlabel(class_names[train_labels[i]])\n",
    "plt.show()"
   ]
  },
  {
   "cell_type": "markdown",
   "metadata": {
    "id": "_ppoO3P7P_k8"
   },
   "source": [
    "Build the model\n",
    "--\n",
    "Building the neural network requires configuring the layers of the model, then compiling the model"
   ]
  },
  {
   "cell_type": "markdown",
   "metadata": {
    "id": "hYaHhmVVQBiD"
   },
   "source": [
    "The basic building block of a neural network is the layer. Layers extract representations from the data fed into them.\n",
    "--\n",
    "Most of deep learning consists of chaining together simple layers"
   ]
  },
  {
   "cell_type": "code",
   "execution_count": 10,
   "metadata": {
    "executionInfo": {
     "elapsed": 6144,
     "status": "ok",
     "timestamp": 1605064808065,
     "user": {
      "displayName": "manh dao",
      "photoUrl": "",
      "userId": "03030387673752375719"
     },
     "user_tz": -420
    },
    "id": "kjt3poB2QMbv"
   },
   "outputs": [],
   "source": [
    "# simple model to recognize\n",
    "model = tf.keras.Sequential()\n",
    "model.add(layers.Flatten(input_shape=(28, 28)))\n",
    "model.add(layers.Dense(128, activation='relu'))\n",
    "model.add(layers.Dense(10))"
   ]
  },
  {
   "cell_type": "code",
   "execution_count": 13,
   "metadata": {
    "colab": {
     "base_uri": "https://localhost:8080/"
    },
    "executionInfo": {
     "elapsed": 793,
     "status": "ok",
     "timestamp": 1605064907695,
     "user": {
      "displayName": "manh dao",
      "photoUrl": "",
      "userId": "03030387673752375719"
     },
     "user_tz": -420
    },
    "id": "zSPnQBU2Uq_r",
    "outputId": "0741b060-290c-46f6-b533-61ab604ca843"
   },
   "outputs": [
    {
     "name": "stdout",
     "output_type": "stream",
     "text": [
      "Model: \"sequential\"\n",
      "_________________________________________________________________\n",
      "Layer (type)                 Output Shape              Param #   \n",
      "=================================================================\n",
      "flatten (Flatten)            (None, 784)               0         \n",
      "_________________________________________________________________\n",
      "dense (Dense)                (None, 128)               100480    \n",
      "_________________________________________________________________\n",
      "dense_1 (Dense)              (None, 10)                1290      \n",
      "=================================================================\n",
      "Total params: 101,770\n",
      "Trainable params: 101,770\n",
      "Non-trainable params: 0\n",
      "_________________________________________________________________\n"
     ]
    }
   ],
   "source": [
    "model.summary()"
   ]
  },
  {
   "cell_type": "markdown",
   "metadata": {
    "id": "29Zl5zKnQ90t"
   },
   "source": [
    "The first layer in this network, tf.keras.layers.Flatten, transforms the format of the images from a two-dimensional array (of 28 by 28 pixels) to a one-dimensional array (of 28 * 28 = 784 pixels). Think of this layer as unstacking rows of pixels in the image and lining them up. This layer has no parameters to learn; it only reformats the data."
   ]
  },
  {
   "cell_type": "markdown",
   "metadata": {
    "id": "YMfH1c1ORAJq"
   },
   "source": [
    "After the pixels are flattened, the network consists of a sequence of two tf.keras.layers.Dense layers. These are densely connected, or fully connected, neural layers. The first Dense layer has 128 nodes (or neurons). The second (and last) layer returns a logits array with length of 10. Each node contains a score that indicates the current image belongs to one of the 10 classes."
   ]
  },
  {
   "cell_type": "markdown",
   "metadata": {
    "id": "PmyBgwzrRD09"
   },
   "source": [
    "Compile the model\n",
    "--\n",
    "Before the model is ready for training, it needs a few more settings. These are added during the model's compile step:\n",
    "\n",
    "*   Loss function —This measures how accurate the model is during training. You want to minimize this function to \"steer\" the model in the right direction\n",
    "*   Optimizer —This is how the model is updated based on the data it sees and its loss function\n",
    "*   Metrics —Used to monitor the training and testing steps. The following example uses accuracy, the fraction of the images that are correctly classified.\n",
    "\n",
    "\n",
    "\n"
   ]
  },
  {
   "cell_type": "code",
   "execution_count": 16,
   "metadata": {
    "executionInfo": {
     "elapsed": 787,
     "status": "ok",
     "timestamp": 1605065141185,
     "user": {
      "displayName": "manh dao",
      "photoUrl": "",
      "userId": "03030387673752375719"
     },
     "user_tz": -420
    },
    "id": "mkaJHbduR1fi"
   },
   "outputs": [],
   "source": [
    "model.compile(optimizer='adam', loss=tf.keras.losses.SparseCategoricalCrossentropy(from_logits=True), metrics=['accuracy'])"
   ]
  },
  {
   "cell_type": "markdown",
   "metadata": {
    "id": "L6rf9TrwSQ2V"
   },
   "source": [
    "Train the model\n",
    "--\n",
    "Training the neural network model requires the following steps:\n",
    "\n",
    "1.   Feed the training data to the model. In this example, the training data is in the train_images and train_labels arrays\n",
    "2.   The model learns to associate images and labels.\n",
    "1.   You ask the model to make predictions about a test set—in this example, the test_images array.\n",
    "2.   Verify that the predictions match the labels from the test_labels array\n",
    "\n",
    "\n",
    "\n"
   ]
  },
  {
   "cell_type": "markdown",
   "metadata": {
    "id": "SbFS8KgxSp3k"
   },
   "source": [
    "Feed the model\n",
    "--\n",
    "To start training, call the model.fit method—so called because it \"fits\" the model to the training data:"
   ]
  },
  {
   "cell_type": "code",
   "execution_count": 18,
   "metadata": {
    "colab": {
     "base_uri": "https://localhost:8080/"
    },
    "executionInfo": {
     "elapsed": 82540,
     "status": "ok",
     "timestamp": 1605065270967,
     "user": {
      "displayName": "manh dao",
      "photoUrl": "",
      "userId": "03030387673752375719"
     },
     "user_tz": -420
    },
    "id": "QvDtOrOTSve8",
    "outputId": "3ee52b3b-0b12-4b18-d4c3-b9fd6a824dbe"
   },
   "outputs": [
    {
     "name": "stdout",
     "output_type": "stream",
     "text": [
      "Epoch 1/25\n",
      "1875/1875 [==============================] - 3s 2ms/step - loss: 0.2345 - accuracy: 0.9121\n",
      "Epoch 2/25\n",
      "1875/1875 [==============================] - 3s 2ms/step - loss: 0.2266 - accuracy: 0.9155\n",
      "Epoch 3/25\n",
      "1875/1875 [==============================] - 3s 2ms/step - loss: 0.2218 - accuracy: 0.9162\n",
      "Epoch 4/25\n",
      "1875/1875 [==============================] - 3s 2ms/step - loss: 0.2138 - accuracy: 0.9205\n",
      "Epoch 5/25\n",
      "1875/1875 [==============================] - 3s 2ms/step - loss: 0.2089 - accuracy: 0.9215\n",
      "Epoch 6/25\n",
      "1875/1875 [==============================] - 3s 2ms/step - loss: 0.2012 - accuracy: 0.9245\n",
      "Epoch 7/25\n",
      "1875/1875 [==============================] - 3s 2ms/step - loss: 0.1980 - accuracy: 0.9261\n",
      "Epoch 8/25\n",
      "1875/1875 [==============================] - 3s 2ms/step - loss: 0.1936 - accuracy: 0.9279\n",
      "Epoch 9/25\n",
      "1875/1875 [==============================] - 3s 2ms/step - loss: 0.1865 - accuracy: 0.9308\n",
      "Epoch 10/25\n",
      "1875/1875 [==============================] - 3s 2ms/step - loss: 0.1847 - accuracy: 0.9303\n",
      "Epoch 11/25\n",
      "1875/1875 [==============================] - 3s 2ms/step - loss: 0.1828 - accuracy: 0.9306\n",
      "Epoch 12/25\n",
      "1875/1875 [==============================] - 3s 2ms/step - loss: 0.1758 - accuracy: 0.9349\n",
      "Epoch 13/25\n",
      "1875/1875 [==============================] - 3s 2ms/step - loss: 0.1723 - accuracy: 0.9363\n",
      "Epoch 14/25\n",
      "1875/1875 [==============================] - 3s 2ms/step - loss: 0.1681 - accuracy: 0.9377\n",
      "Epoch 15/25\n",
      "1875/1875 [==============================] - 3s 2ms/step - loss: 0.1637 - accuracy: 0.9385\n",
      "Epoch 16/25\n",
      "1875/1875 [==============================] - 3s 2ms/step - loss: 0.1608 - accuracy: 0.9396\n",
      "Epoch 17/25\n",
      "1875/1875 [==============================] - 3s 2ms/step - loss: 0.1574 - accuracy: 0.9413\n",
      "Epoch 18/25\n",
      "1875/1875 [==============================] - 3s 2ms/step - loss: 0.1549 - accuracy: 0.9421\n",
      "Epoch 19/25\n",
      "1875/1875 [==============================] - 3s 2ms/step - loss: 0.1512 - accuracy: 0.9435\n",
      "Epoch 20/25\n",
      "1875/1875 [==============================] - 3s 2ms/step - loss: 0.1480 - accuracy: 0.9446\n",
      "Epoch 21/25\n",
      "1875/1875 [==============================] - 3s 2ms/step - loss: 0.1456 - accuracy: 0.9445\n",
      "Epoch 22/25\n",
      "1875/1875 [==============================] - 3s 2ms/step - loss: 0.1423 - accuracy: 0.9466\n",
      "Epoch 23/25\n",
      "1875/1875 [==============================] - 3s 2ms/step - loss: 0.1395 - accuracy: 0.9473\n",
      "Epoch 24/25\n",
      "1875/1875 [==============================] - 3s 2ms/step - loss: 0.1378 - accuracy: 0.9484\n",
      "Epoch 25/25\n",
      "1875/1875 [==============================] - 3s 2ms/step - loss: 0.1320 - accuracy: 0.9503\n"
     ]
    },
    {
     "data": {
      "text/plain": [
       "<tensorflow.python.keras.callbacks.History at 0x7f631137cef0>"
      ]
     },
     "execution_count": 18,
     "metadata": {
      "tags": []
     },
     "output_type": "execute_result"
    }
   ],
   "source": [
    "model.fit(train_images, train_labels, epochs=25)"
   ]
  },
  {
   "cell_type": "markdown",
   "metadata": {
    "id": "RpPBvLkgWV9i"
   },
   "source": [
    "Evaluate accuracy\n",
    "--\n",
    "Next, compare how the model performs on the test dataset:"
   ]
  },
  {
   "cell_type": "code",
   "execution_count": 19,
   "metadata": {
    "colab": {
     "base_uri": "https://localhost:8080/"
    },
    "executionInfo": {
     "elapsed": 1466,
     "status": "ok",
     "timestamp": 1605065454354,
     "user": {
      "displayName": "manh dao",
      "photoUrl": "",
      "userId": "03030387673752375719"
     },
     "user_tz": -420
    },
    "id": "z6PJvkJMWZG9",
    "outputId": "deb86598-4871-4c08-b86e-66ece2435cb4"
   },
   "outputs": [
    {
     "name": "stdout",
     "output_type": "stream",
     "text": [
      "313/313 - 0s - loss: 0.4339 - accuracy: 0.8876\n",
      "\n",
      " Test accuracy: 0.8876000046730042\n"
     ]
    }
   ],
   "source": [
    "test_loss, test_acc = model.evaluate(test_images, test_labels, verbose=2)\n",
    "\n",
    "print('\\n Test accuracy:', test_acc)"
   ]
  },
  {
   "cell_type": "markdown",
   "metadata": {
    "id": "SlhH8ioDXHE9"
   },
   "source": [
    "It turns out that the accuracy on the test dataset is a little less than the accuracy on the training dataset. This gap between training accuracy and test accuracy represents overfitting. Overfitting happens when a machine learning model performs worse on new, previously unseen inputs than it does on the training data. An overfitted model \"memorizes\" the noise and details in the training dataset to a point where it negatively impacts the performance of the model on the new data."
   ]
  },
  {
   "cell_type": "markdown",
   "metadata": {
    "id": "FPIPXpH3XIBB"
   },
   "source": [
    "Make predictions\n",
    "--\n",
    "With the model trained, you can use it to make predictions about some images. The model's linear outputs, logits. Attach a softmax layer to convert the logits to probabilities, which are easier to interpret."
   ]
  },
  {
   "cell_type": "code",
   "execution_count": 21,
   "metadata": {
    "colab": {
     "base_uri": "https://localhost:8080/"
    },
    "executionInfo": {
     "elapsed": 780,
     "status": "ok",
     "timestamp": 1605065654015,
     "user": {
      "displayName": "manh dao",
      "photoUrl": "",
      "userId": "03030387673752375719"
     },
     "user_tz": -420
    },
    "id": "urEJ27SWXPGo",
    "outputId": "f17bca69-df70-48fc-b865-25e5aa1364f8"
   },
   "outputs": [
    {
     "name": "stdout",
     "output_type": "stream",
     "text": [
      "Model: \"sequential\"\n",
      "_________________________________________________________________\n",
      "Layer (type)                 Output Shape              Param #   \n",
      "=================================================================\n",
      "flatten (Flatten)            (None, 784)               0         \n",
      "_________________________________________________________________\n",
      "dense (Dense)                (None, 128)               100480    \n",
      "_________________________________________________________________\n",
      "dense_1 (Dense)              (None, 10)                1290      \n",
      "_________________________________________________________________\n",
      "softmax (Softmax)            (None, 10)                0         \n",
      "_________________________________________________________________\n",
      "softmax_1 (Softmax)          (None, 10)                0         \n",
      "=================================================================\n",
      "Total params: 101,770\n",
      "Trainable params: 101,770\n",
      "Non-trainable params: 0\n",
      "_________________________________________________________________\n"
     ]
    }
   ],
   "source": [
    "model.add(layers.Softmax()) # probability model\n",
    "model.summary()"
   ]
  },
  {
   "cell_type": "code",
   "execution_count": 22,
   "metadata": {
    "executionInfo": {
     "elapsed": 801,
     "status": "ok",
     "timestamp": 1605065701459,
     "user": {
      "displayName": "manh dao",
      "photoUrl": "",
      "userId": "03030387673752375719"
     },
     "user_tz": -420
    },
    "id": "UhS5Eno0XlQK"
   },
   "outputs": [],
   "source": [
    "predictions = model(test_images)"
   ]
  },
  {
   "cell_type": "markdown",
   "metadata": {
    "id": "u_v2jybUXwmU"
   },
   "source": [
    "Here, the model has predicted the label for each image in the testing set. Let's take a look at the first prediction:"
   ]
  },
  {
   "cell_type": "code",
   "execution_count": 23,
   "metadata": {
    "colab": {
     "base_uri": "https://localhost:8080/"
    },
    "executionInfo": {
     "elapsed": 799,
     "status": "ok",
     "timestamp": 1605065734680,
     "user": {
      "displayName": "manh dao",
      "photoUrl": "",
      "userId": "03030387673752375719"
     },
     "user_tz": -420
    },
    "id": "K3T8V7saXzSn",
    "outputId": "2f6d63a2-1a0e-4970-ae56-75573c4641c1"
   },
   "outputs": [
    {
     "name": "stdout",
     "output_type": "stream",
     "text": [
      "tf.Tensor(\n",
      "[0.08533679 0.08533679 0.08533679 0.08533679 0.08533679 0.08533679\n",
      " 0.08533679 0.08533716 0.08533679 0.23196845], shape=(10,), dtype=float32)\n"
     ]
    }
   ],
   "source": [
    "print(predictions[0])"
   ]
  },
  {
   "cell_type": "markdown",
   "metadata": {
    "id": "5Iusv9-HYNHO"
   },
   "source": [
    "A prediction is an array of 10 numbers. They represent the model's \"confidence\" that the image corresponds to each of the 10 different articles of clothing. You can see which label has the highest confidence value"
   ]
  },
  {
   "cell_type": "code",
   "execution_count": 24,
   "metadata": {
    "colab": {
     "base_uri": "https://localhost:8080/"
    },
    "executionInfo": {
     "elapsed": 782,
     "status": "ok",
     "timestamp": 1605065903903,
     "user": {
      "displayName": "manh dao",
      "photoUrl": "",
      "userId": "03030387673752375719"
     },
     "user_tz": -420
    },
    "id": "GJOuJdxeYOpC",
    "outputId": "c9179251-5f4f-4909-fa55-e84f1f98cf24"
   },
   "outputs": [
    {
     "name": "stdout",
     "output_type": "stream",
     "text": [
      "9\n",
      "9\n"
     ]
    }
   ],
   "source": [
    "print(np.argmax(predictions[0]))\n",
    "\n",
    "# compare with real ones\n",
    "print(test_labels[0])"
   ]
  },
  {
   "cell_type": "markdown",
   "metadata": {
    "id": "QDDaflogYlRi"
   },
   "source": [
    "So, the model is most confident that this image is an ankle boot, or class_names[9]. Examining the test label shows that this classification is correct"
   ]
  },
  {
   "cell_type": "markdown",
   "metadata": {
    "id": "emeIiuQ2YnNC"
   },
   "source": [
    "Graph this to look at the full set of 10 class predictions."
   ]
  },
  {
   "cell_type": "code",
   "execution_count": 29,
   "metadata": {
    "executionInfo": {
     "elapsed": 790,
     "status": "ok",
     "timestamp": 1605068320823,
     "user": {
      "displayName": "manh dao",
      "photoUrl": "",
      "userId": "03030387673752375719"
     },
     "user_tz": -420
    },
    "id": "coeZqv96YvnF"
   },
   "outputs": [],
   "source": [
    "def plot_image(i, predictions_array, true_label, img):\n",
    "  true_label, img = true_label[i], img[i]\n",
    "  plt.grid(False)\n",
    "  plt.xticks([])\n",
    "  plt.yticks([])\n",
    "\n",
    "  plt.imshow(img, cmap=plt.cm.binary)\n",
    "\n",
    "  predicted_label = np.argmax(predictions_array)\n",
    "  if predicted_label == true_label:\n",
    "    color = 'blue'\n",
    "  else:\n",
    "    color = 'red'\n",
    "\n",
    "  plt.xlabel(\"{} {:2.0f}% ({})\".format(class_names[predicted_label], 100*np.max(predictions_array), class_names[true_label], color=color)) \n",
    "\n",
    "def plot_value_array(i, predictions_array, true_label):\n",
    "  true_label = true_label[i]\n",
    "  plt.grid(False)\n",
    "  plt.xticks(range(10))\n",
    "  plt.yticks([])\n",
    "  thisplot = plt.bar(range(10), predictions_array, color='#777777')\n",
    "  plt.ylim([0, 1])\n",
    "  predicted_label = np.argmax(predictions_array)\n",
    "\n",
    "  thisplot[true_label].set_color('blue')\n",
    "  thisplot[predicted_label].set_color('red')"
   ]
  },
  {
   "cell_type": "markdown",
   "metadata": {
    "id": "Ad73dxhMgxEi"
   },
   "source": [
    "Verify predictions\n",
    "--\n",
    "With the model trained, you can use it to make predictions about some images.\n",
    "\n",
    "Let's look at the 0th image, predictions, and prediction array. Correct prediction labels are blue and incorrect prediction labels are red. The number gives the percentage (out of 100) for the predicted label"
   ]
  },
  {
   "cell_type": "code",
   "execution_count": 30,
   "metadata": {
    "colab": {
     "base_uri": "https://localhost:8080/",
     "height": 211
    },
    "executionInfo": {
     "elapsed": 774,
     "status": "ok",
     "timestamp": 1605068324875,
     "user": {
      "displayName": "manh dao",
      "photoUrl": "",
      "userId": "03030387673752375719"
     },
     "user_tz": -420
    },
    "id": "Grs0Z3Aqg5MO",
    "outputId": "2516c8e9-89ad-47a0-83e0-b04609f14f63"
   },
   "outputs": [
    {
     "data": {
      "image/png": "[encoded data removed]",
      "text/plain": [
       "<Figure size 432x216 with 2 Axes>"
      ]
     },
     "metadata": {
      "needs_background": "light",
      "tags": []
     },
     "output_type": "display_data"
    }
   ],
   "source": [
    "i = 0\n",
    "plt.figure(figsize=(6, 3))\n",
    "plt.subplot(1, 2, 1)\n",
    "plot_image(i, predictions[i], test_labels, test_images)\n",
    "plt.subplot(1, 2, 2)\n",
    "plot_value_array(i, predictions[i], test_labels)\n",
    "plt.show()"
   ]
  },
  {
   "cell_type": "code",
   "execution_count": 31,
   "metadata": {
    "colab": {
     "base_uri": "https://localhost:8080/",
     "height": 211
    },
    "executionInfo": {
     "elapsed": 813,
     "status": "ok",
     "timestamp": 1605068371125,
     "user": {
      "displayName": "manh dao",
      "photoUrl": "",
      "userId": "03030387673752375719"
     },
     "user_tz": -420
    },
    "id": "-iPYobLWh3Ai",
    "outputId": "184b7692-31f5-4b56-922e-78c42d4103ea"
   },
   "outputs": [
    {
     "data": {
      "image/png": "[encoded data removed]",
      "text/plain": [
       "<Figure size 432x216 with 2 Axes>"
      ]
     },
     "metadata": {
      "needs_background": "light",
      "tags": []
     },
     "output_type": "display_data"
    }
   ],
   "source": [
    "# with 12th object\n",
    "i = 12\n",
    "plt.figure(figsize=(6,3))\n",
    "plt.subplot(1,2,1)\n",
    "plot_image(i, predictions[i], test_labels, test_images)\n",
    "plt.subplot(1,2,2)\n",
    "plot_value_array(i, predictions[i],  test_labels)\n",
    "plt.show()"
   ]
  },
  {
   "cell_type": "markdown",
   "metadata": {
    "id": "07bcnQptiFaz"
   },
   "source": [
    "Let's plot several images with their predictions. Note that the model can be wrong even when very confident"
   ]
  },
  {
   "cell_type": "code",
   "execution_count": 32,
   "metadata": {
    "colab": {
     "base_uri": "https://localhost:8080/",
     "height": 729
    },
    "executionInfo": {
     "elapsed": 2965,
     "status": "ok",
     "timestamp": 1605068450336,
     "user": {
      "displayName": "manh dao",
      "photoUrl": "",
      "userId": "03030387673752375719"
     },
     "user_tz": -420
    },
    "id": "qSHsVmp_iGZh",
    "outputId": "25cfaa2f-0958-4500-d5b4-3d6505c741b1"
   },
   "outputs": [
    {
     "data": {
      "image/png": "[encoded data removed]",
      "text/plain": [
       "<Figure size 864x720 with 30 Axes>"
      ]
     },
     "metadata": {
      "needs_background": "light",
      "tags": []
     },
     "output_type": "display_data"
    }
   ],
   "source": [
    "# Plot the first X test images, their predicted labels, and the true labels.\n",
    "# Color correct predictions in blue and incorrect predictions in red.\n",
    "num_rows = 5\n",
    "num_cols = 3\n",
    "num_images = num_rows*num_cols\n",
    "plt.figure(figsize=(2*2*num_cols, 2*num_rows))\n",
    "for i in range(num_images):\n",
    "  plt.subplot(num_rows, 2*num_cols, 2*i+1)\n",
    "  plot_image(i, predictions[i], test_labels, test_images)\n",
    "  plt.subplot(num_rows, 2*num_cols, 2*i+2)\n",
    "  plot_value_array(i, predictions[i], test_labels)\n",
    "plt.tight_layout()\n",
    "plt.show()"
   ]
  },
  {
   "cell_type": "markdown",
   "metadata": {
    "id": "BsrK3yHKibRf"
   },
   "source": [
    "Use the trained model\n",
    "--\n",
    "Finally, use the trained model to make a prediction about a single image."
   ]
  },
  {
   "cell_type": "code",
   "execution_count": 33,
   "metadata": {
    "colab": {
     "base_uri": "https://localhost:8080/"
    },
    "executionInfo": {
     "elapsed": 854,
     "status": "ok",
     "timestamp": 1605068525351,
     "user": {
      "displayName": "manh dao",
      "photoUrl": "",
      "userId": "03030387673752375719"
     },
     "user_tz": -420
    },
    "id": "_FQPzCOriekB",
    "outputId": "b9a4665c-678d-4f22-f787-25a1f55404dd"
   },
   "outputs": [
    {
     "name": "stdout",
     "output_type": "stream",
     "text": [
      "(28, 28)\n"
     ]
    }
   ],
   "source": [
    "# Grab an image from the test dataset.\n",
    "img = test_images[1]\n",
    "\n",
    "print(img.shape)"
   ]
  },
  {
   "cell_type": "markdown",
   "metadata": {
    "id": "mF4OsIslinRN"
   },
   "source": [
    "tf.keras models are optimized to make predictions on a batch, or collection, of examples at once. Accordingly, even though you're using a single image, you need to add it to a list:"
   ]
  },
  {
   "cell_type": "code",
   "execution_count": 34,
   "metadata": {
    "colab": {
     "base_uri": "https://localhost:8080/"
    },
    "executionInfo": {
     "elapsed": 777,
     "status": "ok",
     "timestamp": 1605068569395,
     "user": {
      "displayName": "manh dao",
      "photoUrl": "",
      "userId": "03030387673752375719"
     },
     "user_tz": -420
    },
    "id": "8dMdb-CeioKp",
    "outputId": "8b6f0440-a8b0-4647-b41c-838b4df64f41"
   },
   "outputs": [
    {
     "name": "stdout",
     "output_type": "stream",
     "text": [
      "(1, 28, 28)\n"
     ]
    }
   ],
   "source": [
    "# Add the image to a batch where it's the only member.\n",
    "img = (np.expand_dims(img,0))\n",
    "\n",
    "print(img.shape)"
   ]
  },
  {
   "cell_type": "markdown",
   "metadata": {
    "id": "-FbJlqneixRL"
   },
   "source": [
    "Now predict the correct label for this image:"
   ]
  },
  {
   "cell_type": "code",
   "execution_count": 36,
   "metadata": {
    "colab": {
     "base_uri": "https://localhost:8080/"
    },
    "executionInfo": {
     "elapsed": 798,
     "status": "ok",
     "timestamp": 1605068628838,
     "user": {
      "displayName": "manh dao",
      "photoUrl": "",
      "userId": "03030387673752375719"
     },
     "user_tz": -420
    },
    "id": "WR1vIgNEix3I",
    "outputId": "39987232-370e-43da-c696-d6e4a8929d0a"
   },
   "outputs": [
    {
     "name": "stdout",
     "output_type": "stream",
     "text": [
      "[[0.08533757 0.08533756 0.2319564  0.08533756 0.0853431  0.08533756\n",
      "  0.08533756 0.08533756 0.08533756 0.08533756]]\n"
     ]
    }
   ],
   "source": [
    "predictions_single = model.predict(img)\n",
    "\n",
    "print(predictions_single)"
   ]
  },
  {
   "cell_type": "code",
   "execution_count": 37,
   "metadata": {
    "colab": {
     "base_uri": "https://localhost:8080/",
     "height": 298
    },
    "executionInfo": {
     "elapsed": 835,
     "status": "ok",
     "timestamp": 1605068664859,
     "user": {
      "displayName": "manh dao",
      "photoUrl": "",
      "userId": "03030387673752375719"
     },
     "user_tz": -420
    },
    "id": "HzkiPxXoi-oA",
    "outputId": "4536ecbc-f8ac-418c-fa9d-70577ef4e13c"
   },
   "outputs": [
    {
     "data": {
      "image/png": "[encoded data removed]",
      "text/plain": [
       "<Figure size 432x288 with 1 Axes>"
      ]
     },
     "metadata": {
      "needs_background": "light",
      "tags": []
     },
     "output_type": "display_data"
    }
   ],
   "source": [
    "plot_value_array(1, predictions_single[0], test_labels)\n",
    "_ = plt.xticks(range(10), class_names, rotation=45)"
   ]
  },
  {
   "cell_type": "markdown",
   "metadata": {
    "id": "E0Fd_EZEjHuu"
   },
   "source": [
    "tf.keras.Model.predict returns a list of lists—one list for each image in the batch of data. Grab the predictions for our (only) image in the batch:"
   ]
  },
  {
   "cell_type": "code",
   "execution_count": 38,
   "metadata": {
    "colab": {
     "base_uri": "https://localhost:8080/"
    },
    "executionInfo": {
     "elapsed": 790,
     "status": "ok",
     "timestamp": 1605068708188,
     "user": {
      "displayName": "manh dao",
      "photoUrl": "",
      "userId": "03030387673752375719"
     },
     "user_tz": -420
    },
    "id": "QhQg4HyDjJhD",
    "outputId": "896f3c6d-9ec2-4c5d-f22a-2e68a8221b77"
   },
   "outputs": [
    {
     "data": {
      "text/plain": [
       "2"
      ]
     },
     "execution_count": 38,
     "metadata": {
      "tags": []
     },
     "output_type": "execute_result"
    }
   ],
   "source": [
    "np.argmax(predictions_single[0])"
   ]
  }
 ],
 "metadata": {
  "accelerator": "GPU",
  "colab": {
   "authorship_tag": "ABX9TyO9hZ8dEFwBU/To1NXk03+8",
   "collapsed_sections": [],
   "name": "ClassifyClothingMNIST.ipynb",
   "provenance": []
  },
  "kernelspec": {
   "display_name": "Python 3 (ipykernel)",
   "language": "python",
   "name": "python3"
  },
  "language_info": {
   "codemirror_mode": {
    "name": "ipython",
    "version": 3
   },
   "file_extension": ".py",
   "mimetype": "text/x-python",
   "name": "python",
   "nbconvert_exporter": "python",
   "pygments_lexer": "ipython3",
   "version": "3.8.10"
  }
 },
 "nbformat": 4,
 "nbformat_minor": 1
}
